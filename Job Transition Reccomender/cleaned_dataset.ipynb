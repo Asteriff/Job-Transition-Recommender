{
 "cells": [
  {
   "cell_type": "markdown",
   "metadata": {},
   "source": [
    "***Predicting job categories for people in the tech industry to transition to based on their current career field, hard skills and career level.***"
   ]
  },
  {
   "cell_type": "markdown",
   "metadata": {},
   "source": [
    "This Notebook contains a basic model for predicting job categories based on skills and career level. Here is the basic structure of the code to help guide the user through the different stages of Machine Learning... enjoy! \n",
    "\n",
    "- Stage 1, Pre-processing (Exploration, Cleaning, Formatting, Visualisation, Missing Values, Normalisation)\n",
    "- Stage 2, Training (Defining Target Variables and Input Values(X and Y), Splitting Training and Testing Samples, Training on Different Algorithms)\n",
    "- Stage 3, Testing and Evaluation (Model Accuracy, Confusion Matrix)\n",
    "- Stage 4, Optimisation (Feature Engineering, OverSampling, Hyperparemeter Tuning)\n",
    "- Stage 5, Saving and Loading (Model Completion, Packaging)\n",
    "\n",
    "This strucure is LOOSE as we will implement stages 3 and 4 within the earlier stages after we have tested our models accuracy. "
   ]
  },
  {
   "cell_type": "markdown",
   "metadata": {},
   "source": [
    "**Stage 1 - Exploration**"
   ]
  },
  {
   "cell_type": "code",
   "execution_count": 2059,
   "metadata": {},
   "outputs": [],
   "source": [
    "#importing library\n",
    "import pandas as pd \n",
    "#importing dataset\n",
    "df = pd.read_csv('main_dataset_cleaned (main dataset).csv')\n",
    "#first dataframe\n",
    "df = df"
   ]
  },
  {
   "cell_type": "markdown",
   "metadata": {},
   "source": [
    "Importing pandas and the dataset into a dataframe so we can manipulate the data."
   ]
  },
  {
   "cell_type": "code",
   "execution_count": 2060,
   "metadata": {},
   "outputs": [
    {
     "name": "stdout",
     "output_type": "stream",
     "text": [
      "    career_level                                        hard_skills  \\\n",
      "0         junior                                                NaN   \n",
      "1         junior                                                NaN   \n",
      "2         junior  chef, provisioning, bash, python, ruby, config...   \n",
      "3         junior  chef, provisioning, bash, python, ruby, config...   \n",
      "4         junior             windows, linux, .net,dotnet,dotnetcore   \n",
      "..           ...                                                ...   \n",
      "262       junior                                                NaN   \n",
      "263       junior  javascript, integration, javascript|js|es6|ecm...   \n",
      "264       senior                     php, bash, linux, python, ruby   \n",
      "265       junior                                                NaN   \n",
      "266       junior  javascript, javascript|js|es6|ecmascript|ecmas...   \n",
      "\n",
      "                                 title  \n",
      "0               Data Centre Technician  \n",
      "1         Digital Marketing Consultant  \n",
      "2          Platform Engineer – Windows  \n",
      "3    Platform Engineer – Linux and AWS  \n",
      "4    Graduate Tech Operations Engineer  \n",
      "..                                 ...  \n",
      "262          Digital Content Executive  \n",
      "263   Front End Web Designer/Developer  \n",
      "264             Senior DevOps Engineer  \n",
      "265               UX Design Consultant  \n",
      "266       Front End Software Engineers  \n",
      "\n",
      "[267 rows x 3 columns]\n"
     ]
    }
   ],
   "source": [
    "#exploring at raw dataframe\n",
    "print(df)"
   ]
  },
  {
   "cell_type": "code",
   "execution_count": 2061,
   "metadata": {},
   "outputs": [
    {
     "data": {
      "text/plain": [
       "career_level    object\n",
       "hard_skills     object\n",
       "title           object\n",
       "dtype: object"
      ]
     },
     "execution_count": 2061,
     "metadata": {},
     "output_type": "execute_result"
    }
   ],
   "source": [
    "#Exploring the data types\n",
    "df.dtypes"
   ]
  },
  {
   "cell_type": "code",
   "execution_count": 2062,
   "metadata": {},
   "outputs": [
    {
     "data": {
      "text/plain": [
       "(267, 3)"
      ]
     },
     "execution_count": 2062,
     "metadata": {},
     "output_type": "execute_result"
    }
   ],
   "source": [
    "#total rows and collumns\n",
    "df.shape"
   ]
  },
  {
   "cell_type": "code",
   "execution_count": 2063,
   "metadata": {},
   "outputs": [
    {
     "data": {
      "text/html": [
       "<div>\n",
       "<style scoped>\n",
       "    .dataframe tbody tr th:only-of-type {\n",
       "        vertical-align: middle;\n",
       "    }\n",
       "\n",
       "    .dataframe tbody tr th {\n",
       "        vertical-align: top;\n",
       "    }\n",
       "\n",
       "    .dataframe thead th {\n",
       "        text-align: right;\n",
       "    }\n",
       "</style>\n",
       "<table border=\"1\" class=\"dataframe\">\n",
       "  <thead>\n",
       "    <tr style=\"text-align: right;\">\n",
       "      <th></th>\n",
       "      <th>career_level</th>\n",
       "      <th>hard_skills</th>\n",
       "      <th>title</th>\n",
       "    </tr>\n",
       "  </thead>\n",
       "  <tbody>\n",
       "    <tr>\n",
       "      <th>count</th>\n",
       "      <td>267</td>\n",
       "      <td>155</td>\n",
       "      <td>267</td>\n",
       "    </tr>\n",
       "    <tr>\n",
       "      <th>unique</th>\n",
       "      <td>4</td>\n",
       "      <td>120</td>\n",
       "      <td>224</td>\n",
       "    </tr>\n",
       "    <tr>\n",
       "      <th>top</th>\n",
       "      <td>junior</td>\n",
       "      <td>agile</td>\n",
       "      <td>Project Manager</td>\n",
       "    </tr>\n",
       "    <tr>\n",
       "      <th>freq</th>\n",
       "      <td>202</td>\n",
       "      <td>14</td>\n",
       "      <td>6</td>\n",
       "    </tr>\n",
       "  </tbody>\n",
       "</table>\n",
       "</div>"
      ],
      "text/plain": [
       "       career_level hard_skills            title\n",
       "count           267         155              267\n",
       "unique            4         120              224\n",
       "top          junior       agile  Project Manager\n",
       "freq            202          14                6"
      ]
     },
     "execution_count": 2063,
     "metadata": {},
     "output_type": "execute_result"
    }
   ],
   "source": [
    "#basic statistics\n",
    "df.describe()"
   ]
  },
  {
   "cell_type": "markdown",
   "metadata": {},
   "source": [
    "Exploring the different columns, how many samples and features there are, and seeing what datatypes the current features are. Allowing us to understand the data and what needs to be changed. "
   ]
  },
  {
   "cell_type": "markdown",
   "metadata": {},
   "source": [
    "**Stage 1 - Missing Values**"
   ]
  },
  {
   "cell_type": "code",
   "execution_count": 2064,
   "metadata": {},
   "outputs": [
    {
     "data": {
      "text/plain": [
       "career_level      0\n",
       "hard_skills     112\n",
       "title             0\n",
       "dtype: int64"
      ]
     },
     "execution_count": 2064,
     "metadata": {},
     "output_type": "execute_result"
    }
   ],
   "source": [
    "#finding null values\n",
    "df.isnull().sum()"
   ]
  },
  {
   "cell_type": "markdown",
   "metadata": {},
   "source": [
    "Identifying the NaN or Null samples in our dataframe. This data seems to have 112 samples of hard_skills with Null Values."
   ]
  },
  {
   "cell_type": "code",
   "execution_count": 2065,
   "metadata": {},
   "outputs": [],
   "source": [
    "#reveiling rows with null values\n",
    "torf = df.isnull().any(axis=1)"
   ]
  },
  {
   "cell_type": "code",
   "execution_count": 2066,
   "metadata": {},
   "outputs": [
    {
     "data": {
      "text/plain": [
       "0     True\n",
       "1     True\n",
       "2    False\n",
       "3    False\n",
       "4    False\n",
       "dtype: bool"
      ]
     },
     "execution_count": 2066,
     "metadata": {},
     "output_type": "execute_result"
    }
   ],
   "source": [
    "#looking at the null values in the first 5 collumns\n",
    "torf.head()"
   ]
  },
  {
   "cell_type": "markdown",
   "metadata": {},
   "source": [
    "torf = True or False. This is changing our samples in hard_skills to a boolean datatype to better understand where the Null samples are. The head is the first 5 samples in the hard_Skills feature and the first two have returned true, meaning they are missing or blank values. "
   ]
  },
  {
   "cell_type": "markdown",
   "metadata": {},
   "source": [
    "**Stage 1 - Formatting**"
   ]
  },
  {
   "cell_type": "code",
   "execution_count": 2067,
   "metadata": {},
   "outputs": [],
   "source": [
    "#defining groups for all values\n",
    "wordlist ={\n",
    "    \"digital_roles\": [\n",
    "\t\t{\"keyword\":\"developer\",\n",
    "   \t\t\"titles\": [\n",
    "\t\t\t\t\t\"Senior Developer\",\n",
    "\t\t\t\t\t\"Junior and Mid-Weight Developers\",\n",
    "\t\t\t\t\t\"Front End Web Developer\",\n",
    "\t\t\t\t\t\"Full Stack PHP Developer\",\n",
    "\t\t\t\t\t\"Graduate Web Developer\",\n",
    "\t\t\t\t\t\"Junior .NET Developer\",\n",
    "\t\t\t\t\t\"Experience .NET Developer\",\n",
    "\t\t\t\t\t\"Lead Developer\",\n",
    "\t\t\t\t\t\"Developer in Test\",\n",
    "\t\t\t\t\t\"Developer\",\n",
    "\t\t\t\t\t\"Java Developer\",\n",
    "\t\t\t\t\t\"Developer/Data Analyst\",\n",
    "\t\t\t\t\t\"Python/Scrapy Senior Developer\",\n",
    "\t\t\t\t\t\"Front End Developer\",\n",
    "\t\t\t\t\t\"Ruby on Rails Developer\",\n",
    "\t\t\t\t\t\"React/React native Front End Developer\",\n",
    "\t\t\t\t\t\"Full Stack Developer\",\n",
    "\t\t\t\t\t\"PHP Software Developer\",\n",
    "\t\t\t\t\t\"Mobile Developer\",\n",
    "\t\t\t\t\t\"Developers\",\n",
    "\t\t\t\t\t\"Web Developer\",\n",
    "\t\t\t\t\t\"PHP Developer\",\n",
    "\t\t\t\t\t\"Senior Business Intelligence Developer\",\n",
    "\t\t\t\t\t\".NET Developer\",\n",
    "\t\t\t\t\t\"PHP Developer\",\n",
    "\t\t\t\t\t\"BI Developer\",\n",
    "\t\t\t\t\t\"Front End Developer\",\n",
    "\t\t\t\t\t\"Android Developer\",\n",
    "\t\t\t\t\t\"WordPress Developer\",\n",
    "\t\t\t\t\t\"Magento Developer\",\n",
    "\t\t\t\t\t\"PHP Developer\",\n",
    "\t\t\t\t\t\"Back End Web Developer\",\n",
    "\t\t\t\t\t\"Front End Web Developer\",\n",
    "\t\t\t\t\t\"Senior Java Developer\",\n",
    "\t\t\t\t\t\"React native iOS/Android Mobile Developer\",\n",
    "\t\t\t\t\t\"Full Stack JavaScript Developer\",\n",
    "\t\t\t\t\t\"PHP Developer\",\n",
    "\t\t\t\t\t\"Data-literate Software Developer (Golang/Python)\",\n",
    "\t\t\t\t\t\"Senior Developer\",\n",
    "\t\t\t\t\t\"iOS Developer\",\n",
    "\t\t\t\t\t\"WordPress Developer\",\n",
    "\t\t\t\t\t\"Senior PHP Software Developer\",\n",
    "\t\t\t\t\t\"Front-end Developer\",\n",
    "\t\t\t\t\t\"Senior Back-end .NET Developer\",\n",
    "\t\t\t\t\t\"Java Developers – Multiple Vacancies\",\n",
    "\t\t\t\t\t\"Website Developer\",\n",
    "\t\t\t\t\t\"Software Developer in Test (SDET)\",\n",
    "\t\t\t\t\t\"Senior .NET Developer\",\n",
    "\t\t\t\t\t\"Graduate Developer\",\n",
    "\t\t\t\t\t\"Graduate/na Software Developer\",\n",
    "\t\t\t\t\t\"Magento Developer\",\n",
    "\t\t\t\t\t\"WordPress Developer\",\n",
    "\t\t\t\t\t\"Developer\",\n",
    "\t\t\t\t\t\"JS Developer\",\n",
    "\t\t\t\t\t\"Mid Weight Backend Developer\",\n",
    "\t\t\t\t\t\"Full Stack Developer\",\n",
    "\t\t\t\t\t\"Senior Magento Software Developer\",\n",
    "\t\t\t\t\t\"Drupal Developer\",\n",
    "\t\t\t\t\t\"Senior Technical Developer (web-based tools) Leeds\",\n",
    "\t\t\t\t\t\".NET Developer\",\n",
    "\t\t\t\t\t\"Front End Developer\",\n",
    "\t\t\t\t\t\"Javascript Developer\",\n",
    "\t\t\t\t\t\"Front End Developer – JavaScript\",\n",
    "\t\t\t\t\t\"Junior and Mid-Weight Web Developers\",\n",
    "\t\t\t\t\t\"Senior Web Developer\",\n",
    "\t\t\t\t\t\"Senior Creative Full Stack Developer\",\n",
    "\t\t\t\t\t\"Java Developer\",\n",
    "\t\t\t\t\t\".NET Developer\",\n",
    "\t\t\t\t\t\"Graduate Developer\",\n",
    "\t\t\t\t\t\"Lead SDET/Lead Software Developer in Test\",\n",
    "\t\t\t\t\t\"Full Stack Mid/Senior PHP Web Developer\",\n",
    "\t\t\t\t\t\"Front End Web Designer/Developer\"\n",
    "\t\t]},\n",
    "        {\"keyword\": \"technician\",\n",
    "     \"titles\": [\n",
    "         \"Data Centre Technician\",\n",
    "         \"2nd Line Technical Operations Technician\",\n",
    "         \"Support Technician\",\n",
    "         \"Database Administrator\",\n",
    "         \"Validation Technician\",\n",
    "         \"Technician – Client Service Desk\",\n",
    "         \"Technical Systems Administrator\",\n",
    "         \"IT Support Technician\",\n",
    "         \"1st/2nd Line Helpdesk Support Engineer\",\n",
    "     ]},\n",
    "    {\"keyword\": \"marketing\",\n",
    "     \"titles\": [\n",
    "         \"Digital Marketing Consultant\",\n",
    "         \"Digital Marketing Executive\",\n",
    "         \"Digital Marketing Executive/Consultant\",\n",
    "         \"PPC Experts\",\n",
    "         \"Digital Marketing Executive\",\n",
    "         \"Online Content and PR Executive\",\n",
    "         \"SEO Executive\",\n",
    "         \"SEO Strategist\",\n",
    "         \"PPC Analyst\",\n",
    "         \"PR and Social Account Managers\",\n",
    "         \"Digital Account Executive\",\n",
    "         \"Associate Director SEO\",\n",
    "         \"SEO Strategist\",\n",
    "         \"SEO Executive\",\n",
    "         \"SEO Lead\",\n",
    "         \"SEO Manager\",\n",
    "         \"Community Engagement Manager\",\n",
    "         \"PPC Executive\",\n",
    "         \"Senior SEO Strategist\",\n",
    "         \"SEO Executive\",\n",
    "         \"SEO Lead\",\n",
    "         \"SEO Manager\",\n",
    "         \"Senior SEO Consultant\",\n",
    "         \"Digital Account Manager\",\n",
    "         \"Digital Project Manger\",\n",
    "         \"SEO Executive\",\n",
    "         \"SEO Lead\",\n",
    "         \"SEO Manager\",\n",
    "         \"Digital Threat Researcher\",\n",
    "         \"Content Marketing Co-ordinator\",\n",
    "         \"Technology Specialist – Data Project Management\",\n",
    "         \"Marketing Executive\",\n",
    "         \"New Business Development Executive\",\n",
    "         \"Marketing Executive (Social Media and Events) Fixed Term Contract\",\n",
    "     ]},\n",
    "    {\"keyword\": \"technical\",\n",
    "     \"titles\": [\n",
    "         \"Unity Technical Artist\",\n",
    "         \"1st Line Technical Support\",\n",
    "         \"Platform Engineer – Windows\",\n",
    "         \"Platform Engineer – Linux and AWS\",\n",
    "         \"Graduate Tech Operations Engineer\",\n",
    "         \"Technical Architect\",\n",
    "         \"Development Operations Engineer\",\n",
    "         \"IT Apprenticeship\",\n",
    "         \"Development Architect/Engineer\",\n",
    "         \"Senior Google Cloud Platform Engineer\",\n",
    "         \"Junior .NET Developer\",\n",
    "         \"Experience .NET Developer\",\n",
    "         \"Internship\",\n",
    "         \"IT Cyber Security – UNIX Technical Specialist\",\n",
    "         \"2nd Line Support/Service Desk Engineer\",\n",
    "         \"Technical Trainer (Software Development and Testing)\",\n",
    "         \"Associate Director SEO\",\n",
    "         \"Technical Project Manager\",\n",
    "         \"Second Line Technical Support\",\n",
    "         \"Senior Technical Developer (web-based tools) Leeds\",\n",
    "         \"Technology Consultant (IT Strategy)\",\n",
    "         \"Technology Consultant (Data Strategist)\",\n",
    "         \"Cloud Consultant\",\n",
    "         \"Technical SEO Specialist\",\n",
    "         \"Technology Specialist – Data Project Management\",\n",
    "         \"Head of Issue and Crisis Monitoring (Social Media)\",\n",
    "         \"Tech Lead – Enterprise Services Tribe\",\n",
    "         \"Tech Lead (native)\",\n",
    "         \"Manager, IT Service Continuity\",\n",
    "     ]},\n",
    "    {\"keyword\": \"managerial\",\n",
    "    \t\"titles\": [\n",
    "\t\t\t\t\t\"UX and CRO Executive\"\n",
    "\t\t\t\t\t\"Lead Interaction Designer – Gaming Tribe\",\n",
    "\t\t\t\t\t\"Junior Project Manager\",\n",
    "\t\t\t\t\t\"Project Manager – Max Card\",\n",
    "\t\t\t\t\t\"Senior Account Manager\",\n",
    "\t\t\t\t\t\"Trainer and System Consultant\",\n",
    "\t\t\t\t\t\"Programmatic Display Executive\",\n",
    "\t\t\t\t\t\"PR and Social Executive\",\n",
    "\t\t\t\t\t\"Senior PHP Software Developer\",\n",
    "\t\t\t\t\t\"Technical Service Delivery Manager\",\n",
    "\t\t\t\t\t\"Account Manager\",\n",
    "\t\t\t\t\t\"Senior Digital Marketing Executive\",\n",
    "\t\t\t\t\t\"Senior Back-end .NET Developer\",\n",
    "\t\t\t\t\t\"Senior Java Developer\",\n",
    "\t\t\t\t\t\"Senior Software Engineer (Java) Trading Tribe\",\n",
    "\t\t\t\t\t\"Engineering Manager\",\n",
    "\t\t\t\t\t\"Principal Operations Engineer/Tech Lead\",\n",
    "\t\t\t\t\t\"Senior Engineer – System Build\",\n",
    "\t\t\t\t\t\"Associate Director SEO\",\n",
    "\t\t\t\t\t\"Project Planner and Facilitator\",\n",
    "\t\t\t\t\t\"Senior Magento Software Developer\",\n",
    "\t\t\t\t\t\"Senior SEO Strategist\",\n",
    "\t\t\t\t\t\"Senior Creative Full Stack Developer\",\n",
    "\t\t\t\t\t\"Head of Design\",\n",
    "\t\t\t\t\t\"Senior Agile Delivery Lead  (Gaming Tribe)\",\n",
    "\t\t\t\t\t\"Manager, IT Service Continuity\",\n",
    "\t\t\t\t\t\"Senior Content Writer\",\n",
    "\t\t\t\t\t\"Senior Engineer- Software Development\",\n",
    "\t\t\t\t\t\"Service Operations Engineer\",\n",
    "\t\t\t\t\t\"Technology Consultant (IT Strategy)\",\n",
    "\t\t\t\t\t\"Technology Consultant (Data Strategist)\",\n",
    "\t\t\t\t\t\"Cloud Consultant\",\n",
    "\t\t\t\t\t\"Technical SEO Specialist\",\n",
    "\t\t\t\t\t\"Technology Specialist – Data Project Management\",\n",
    "\t\t\t\t\t\"Head of Issue and Crisis Monitoring (Social Media)\",\n",
    "\t\t\t\t\t\"Tech Lead – Enterprise Services Tribe\",\n",
    "\t\t\t\t\t\"Tech Lead (native)\",\n",
    "\t\t\t\t\t\"Manager, IT Service Continuity\",\n",
    "\t\t\t\t\t\"Tech Lead\",\n",
    "\t\t\t\t\t\"Project Manager\",\n",
    "\t\t\t\t\t\"Senior DevOps Architect/Head of DevOps\",\n",
    "\t\t\t\t\t\"Digital Project Manager\",\n",
    "\t\t\t\t\t\"Regional Business Development Manager – Full or Part-time\",\n",
    "\t\t\t\t\t\"Test Automation Architect\",\n",
    "\t\t\t\t\t\"IT Technical Specialist\",\n",
    "\t\t\t\t\t\"Technical Programme Manager\",\n",
    "\t\t\t\t\t\"Service Lead – Data Provisioning\",\n",
    "\t\t\t\t\t\"Insight Executive – Graduate Role\",\n",
    "\t\t\t\t\t\"Social Media Geek\",\n",
    "\t\t\t\t\t\"UX Practitioners\",\n",
    "\t\t\t\t\t\"Product Owner\",\n",
    "\t\t\t\t\t\"Junior Account Executive\",\n",
    "\t\t\t\t\t\"Graduate Executives\",\n",
    "\t\t\t\t\t\"Product Marketing Adviser\",\n",
    "\t\t\t\t\t\"Account Executive\",\n",
    "\t\t\t\t\t\"Architect – Software\",\n",
    "\t\t\t\t\t\"Junior Paid Media Manager\",\n",
    "\t\t\t\t\t\"Junior Finance and Systems Administrator\",\n",
    "\t\t\t\t\t\"Mobile App Optimisation Lead\",\n",
    "\t\t\t\t\t\"Business Development Manager\",\n",
    "\t\t\t\t\t\"Scrum Master\",\n",
    "\t\t\t\t\t\"Solutions Architect\",\n",
    "\t\t\t\t\t\"Digital Content Executive\",\n",
    "\t\t\t\t\t\"UX Design Consultant\"\n",
    "    ]},\n",
    "\t\t{\"keyword\":\"engineer\",\n",
    "   \t\t\"titles\": [\n",
    "               \t\t\"Platform Engineer – Windows\",\n",
    "\t\t\t\t\t\"Platform Engineer – Linux and AWS\",\n",
    "\t\t\t\t\t\"Graduate Tech Operations Engineer\",\n",
    "\t\t\t\t\t\"Development Operations Engineer\",\n",
    "\t\t\t\t\t\"Development Architect/Engineer\",\n",
    "\t\t\t\t\t\"Senior Google Cloud Platform Engineer\",\n",
    "\t\t\t\t\t\"2nd Line Support/Service Desk Engineer\",\n",
    "\t\t\t\t\t\"Senior Software Engineer\",\n",
    "\t\t\t\t\t\"Senior DevOps Engineer\",\n",
    "\t\t\t\t\t\"Lead QA Automation Engineer\",\n",
    "\t\t\t\t\t\"Engineer\",\n",
    "\t\t\t\t\t\"Junior Software Engineer\",\n",
    "\t\t\t\t\t\"Lead Software Test Engineer\",\n",
    "\t\t\t\t\t\"Software Test Engineer\",\n",
    "\t\t\t\t\t\"Software Development Engineer – API & Microservices\",\n",
    "\t\t\t\t\t\"Software Implementation Engineer\",\n",
    "\t\t\t\t\t\"Platform Engineers, Full Stack Engineers, Scrum Masters, Architects\",\n",
    "\t\t\t\t\t\"Software Engineer: Python\",\n",
    "\t\t\t\t\t\"Software Engineer: C#/.NET\",\n",
    "\t\t\t\t\t\"Software Engineer: Java\",\n",
    "\t\t\t\t\t\"Technical Operations Engineer\",\n",
    "\t\t\t\t\t\"Engineer – Database\",\n",
    "\t\t\t\t\t\"Technical Operations Engineer\",\n",
    "\t\t\t\t\t\"Hardware Engineer\",\n",
    "\t\t\t\t\t\"Senior Engineer – System Build\",\n",
    "\t\t\t\t\t\"Automation Test Engineer\",\n",
    "\t\t\t\t\t\"Senior Engineer- Software Development\",\n",
    "\t\t\t\t\t\"Service Operations Engineer\",\n",
    "\t\t\t\t\t\"Software Test Engineer Lead\",\n",
    "\t\t\t\t\t\"Innovation Engineer – Chatbots\",\n",
    "\t\t\t\t\t\"Innovation Engineer\",\n",
    "\t\t\t\t\t\"Software Engineer – JavaScript\",\n",
    "\t\t\t\t\t\"Software Engineer – Full Stack\",\n",
    "\t\t\t\t\t\"Innovation Engineer Chatbots\",\n",
    "\t\t\t\t\t\"Chief Engineer\",\n",
    "\t\t\t\t\t\"Software Engineer and Architect\",\n",
    "\t\t\t\t\t\"Software Engineer and Architect\",\n",
    "\t\t\t\t\t\".NET Software Engineer\",\n",
    "\t\t\t\t\t\"Engineering Manager\",\n",
    "\t\t\t\t\t\"Principal Operations Engineer/Tech Lead\",\n",
    "\t\t\t\t\t\"Senior Software Engineer\",\n",
    "\t\t\t\t\t\"Software Engineer\",\n",
    "\t\t\t\t\t\"Senior Software Engineer (Java) Trading Tribe\",\n",
    "\t\t\t\t\t\"Principal Engineer – Test\",\n",
    "\t\t\t\t\t\"Senior Engineer – Application Management and Support\",\n",
    "\t\t\t\t\t\"Senior Engineer – Development\",\n",
    "\t\t\t\t\t\"1st/2nd Line Helpdesk Support Engineer\",\n",
    "\t\t\t\t\t\"Senior DevOps Engineer\",\n",
    "\t\t\t\t\t\"Front End Software Engineers\"\n",
    "\t\t]},\n",
    "\t\t{\"keyword\":\"analyst\",\n",
    "   \t\t\"titles\": [\n",
    "               \t\t\"Technical Support Analyst\",\n",
    "\t\t\t\t\t\"Data Quality Analyst\",\n",
    "\t\t\t\t\t\"Business Analyst\",\n",
    "\t\t\t\t\t\"Software Support Analyst – Career Entry\",\n",
    "\t\t\t\t\t\"Service Analyst\",\n",
    "\t\t\t\t\t\"Developer/Data Analyst\",\n",
    "\t\t\t\t\t\"Service Desk Support Analysts\",\n",
    "\t\t\t\t\t\"Graduate Software Test Analyst, French-speaking\",\n",
    "\t\t\t\t\t\"UX and CRO Analyst\",\n",
    "\t\t\t\t\t\"Business Analyst\",\n",
    "\t\t\t\t\t\"EUC Infrastructure Analyst\",\n",
    "\t\t\t\t\t\"PPC Analyst\",\n",
    "\t\t\t\t\t\"Business Analyst\",\n",
    "\t\t\t\t\t\"Entry Level UX Analyst\",\n",
    "\t\t\t\t\t\"Clinical System Analyst\",\n",
    "\t\t\t\t\t\"Business Analyst\",\n",
    "\t\t\t\t\t\"Digital Business Analyst\",\n",
    "\t\t\t\t\t\"Technical Data Analyst\",\n",
    "\t\t\t\t\t\"Security Operations Analyst (SOC Analyst)\",\n",
    "\t\t\t\t\t\"Analyst – Information Security\",\n",
    "\t\t\t\t\t\"Analyst/Senior Analyst\"\n",
    "\t\t]},\n",
    "\t\t{\"keyword\":\"tester\",\n",
    "   \t\t\"titles\": [\n",
    "               \t\t\"Expert Tester\",\n",
    "\t\t\t\t\t\"Automation Tester\",\n",
    "\t\t\t\t\t\"Automation Tester\",\n",
    "\t\t\t\t\t\"Non-functional Tester\"\n",
    "\t\t]},\n",
    "\t\t{\"keyword\":\"designer\",\n",
    "   \t\t\"titles\": [\n",
    "               \t\t\"Lead Interaction Designer – Gaming Tribe\",\n",
    "\t\t\t\t\t\"Senior Game Designer\",\n",
    "\t\t\t\t\t\"Junior Digital Designer\",\n",
    "\t\t\t\t\t\"Middleweight Designer\",\n",
    "\t\t\t\t\t\"Senior Designer – FMCG\",\n",
    "\t\t\t\t\t\"Graphic Designer\",\n",
    "\t\t\t\t\t\"Junior Digital Designer\",\n",
    "\t\t\t\t\t\"Product Designer\",\n",
    "\t\t\t\t\t\"Digital Designer\",\n",
    "\t\t\t\t\t\"Creative Designer\",\n",
    "\t\t\t\t\t\"Web Designer\",\n",
    "\t\t\t\t\t\"Designer\",\n",
    "\t\t\t\t\t\"Front End Web Designer/Developer\",\n",
    "\t\t]}, \n",
    "\t],\n",
    "\t\"unique_skills\": [\n",
    "\t\t\t{\n",
    "\t\t\t\t\"keyword\": \"split_skills\",\n",
    "\t\t\t\t\"skills\": [\n",
    "\t\t\t\t\t\t\"configuration management\",\n",
    "\t\t\t\t\t\t\"sql\",\n",
    "\t\t\t\t\t\t\"html\",\n",
    "\t\t\t\t\t\t\"aws,amazon web services\",\n",
    "\t\t\t\t\t\t\"agile\",\n",
    "\t\t\t\t\t\t\"jira\",\n",
    "\t\t\t\t\t\t\"css\",\n",
    "\t\t\t\t\t\t\"c\",\n",
    "\t\t\t\t\t\t\"sqlserver,sql server,sqldatatools\",\n",
    "\t\t\t\t\t\t\"javascript\",\n",
    "\t\t\t\t\t\t\"indesign\",\n",
    "\t\t\t\t\t\t\".net,dotnet,dotnetcore\",\n",
    "\t\t\t\t\t\t\"photoshop\",\n",
    "\t\t\t\t\t\t\"jenkins\",\n",
    "\t\t\t\t\t\t\"linux\",\n",
    "\t\t\t\t\t\t\"ruby\",\n",
    "\t\t\t\t\t\t\"http\",\n",
    "\t\t\t\t\t\t\"git\",\n",
    "\t\t\t\t\t\t\"react native\",\n",
    "\t\t\t\t\t\t\"csharp,c#\",\n",
    "\t\t\t\t\t\t\"selenium\",\n",
    "\t\t\t\t\t\t\"provisioning\",\n",
    "\t\t\t\t\t\t\"iot\",\n",
    "\t\t\t\t\t\t\"react\",\n",
    "\t\t\t\t\t\t\"scrum\",\n",
    "\t\t\t\t\t\t\"python\",\n",
    "\t\t\t\t\t\t\"cucumber,cucumberbdd\",\n",
    "\t\t\t\t\t\t\"puppet\",\n",
    "\t\t\t\t\t\t\"windows\",\n",
    "\t\t\t\t\t\t\"docker\",\n",
    "\t\t\t\t\t\t\"windows server\",\n",
    "\t\t\t\t\t\t\"version control\",\n",
    "\t\t\t\t\t\t\"illustrator\",\n",
    "\t\t\t\t\t\t\"java\",\n",
    "\t\t\t\t\t\t\"rails,ruby on rails,rubyonrails\",\n",
    "\t\t\t\t\t\t\"excel\",\n",
    "\t\t\t\t\t\t\"nginx\",\n",
    "\t\t\t\t\t\t\"less\",\n",
    "\t\t\t\t\t\t\"vmware*\",\n",
    "\t\t\t\t\t\t\"angular\",\n",
    "\t\t\t\t\t\t\"gradle\",\n",
    "\t\t\t\t\t\t\"tdd\",\n",
    "\t\t\t\t\t\t\"node.js,nodejs\",\n",
    "\t\t\t\t\t\t\"webpack\",\n",
    "\t\t\t\t\t\t\"stack\",\n",
    "\t\t\t\t\t\t\"specflow\",\n",
    "\t\t\t\t\t\t\"unix\",\n",
    "\t\t\t\t\t\t\"asp\",\n",
    "\t\t\t\t\t\t\"azure,azuredevops\",\n",
    "\t\t\t\t\t\t\"mongodb,mongo\",\n",
    "\t\t\t\t\t\t\"saas\",\n",
    "\t\t\t\t\t\t\"grunt\",\n",
    "\t\t\t\t\t\t\"gulp\",\n",
    "\t\t\t\t\t\t\"svn\",\n",
    "\t\t\t\t\t\t\"bootstrap\",\n",
    "\t\t\t\t\t\t\"sass\",\n",
    "\t\t\t\t\t\t\"drupal\",\n",
    "\t\t\t\t\t\t\"serverless\",\n",
    "\t\t\t\t\t\t\"symfony\",\n",
    "\t\t\t\t\t\t\"teamcity\",\n",
    "\t\t\t\t\t\t\"reactjs,react.js\",\n",
    "\t\t\t\t\t\t\"npm\",\n",
    "\t\t\t\t]\n",
    "\t\t\t}\n",
    "\t\t]\n",
    "}"
   ]
  },
  {
   "cell_type": "markdown",
   "metadata": {},
   "source": [
    "Wordlist = all hard skills and job titles. \n",
    "\n",
    "- Formatting the job titles into categories makes the data easier to be trained on, version 1 of a model should be simplified to help the model identify trends in job roles and increase the accuracy by condensing the feature its trying to predict.\n",
    "\n",
    "- Formatting the hard_skills allows the model to pick out a unique list of the skills available in the data. The dataset has repeating skills throughout the samples and many skills in each sample. This creates a clear list of all the used skills for the model to read."
   ]
  },
  {
   "cell_type": "code",
   "execution_count": 2068,
   "metadata": {},
   "outputs": [
    {
     "name": "stdout",
     "output_type": "stream",
     "text": [
      "0      0\n",
      "1      0\n",
      "2      0\n",
      "3      0\n",
      "4      0\n",
      "      ..\n",
      "262    0\n",
      "263    0\n",
      "264    2\n",
      "265    0\n",
      "266    0\n",
      "Name: career_level, Length: 267, dtype: int64\n"
     ]
    }
   ],
   "source": [
    "#remap career_level to int\n",
    "df.career_level = df.career_level.map({'junior': 0, 'mid-level': 1, 'senior': 2, 'peak': 3})\n",
    "\n",
    "print(df.career_level)\n",
    "\n"
   ]
  },
  {
   "cell_type": "markdown",
   "metadata": {},
   "source": [
    "Here we are collecting the feature, career_level, from the dataframe and mapping them to integers. The model can only learn on numerical datatypes so we change the ordinal samples of the career level to 0, 1, 2, 3. Therefore, formatting them for the model."
   ]
  },
  {
   "cell_type": "code",
   "execution_count": 2069,
   "metadata": {},
   "outputs": [],
   "source": [
    "\n",
    "#AI Assistance (Iterates through the wordlist[digital_roles] and maps them to a category) \n",
    "def categorize_title(title):\n",
    "    for role in wordlist['digital_roles']:\n",
    "        if any(keyword.lower() in title.lower() for keyword in role['titles']):# formatting roles to lower case to avoid syntax errors\n",
    "            return role['keyword']\n",
    "    return 'Other' #uncategorised titles classed as other\n",
    "\n",
    "# creates the new column title_category and applies the function to each sample in title\n",
    "df['title_category'] = df['title'].apply(categorize_title)\n",
    "\n",
    "# mapping categories to numerical values\n",
    "category_mapping = {\n",
    "    'developer': 0,\n",
    "    'engineer': 1,\n",
    "    'designer': 2,\n",
    "    'analyst': 3,\n",
    "    'tester': 4,\n",
    "    'technical': 5,\n",
    "    'technician': 6,\n",
    "    'managerial': 7,\n",
    "    'marketing': 8,\n",
    "    'Other': 9 \n",
    "}\n",
    "\n",
    "#creates a new column title_mapped with corresponding numbers\n",
    "df['title_mapped'] = df['title_category'].map(category_mapping)\n"
   ]
  },
  {
   "cell_type": "markdown",
   "metadata": {},
   "source": [
    "This code is used for formatting the titles in the dataframe, into categories specified in the wordlist. Then we map the categories into numeric format for the model to understand. The function categorize_title uses an AI tool to correctly convert the samples as the model was strugging to read the many different roles in the dataset. \n",
    "\n",
    "In version 2 of this model we can implement a label encoder to the titles so the model can read individual roles instead, removing the need for the function. "
   ]
  },
  {
   "cell_type": "code",
   "execution_count": 2070,
   "metadata": {},
   "outputs": [
    {
     "name": "stdout",
     "output_type": "stream",
     "text": [
      "0      technician\n",
      "1       marketing\n",
      "2       technical\n",
      "3       technical\n",
      "4       technical\n",
      "          ...    \n",
      "262    managerial\n",
      "263     developer\n",
      "264      engineer\n",
      "265    managerial\n",
      "266      engineer\n",
      "Name: title_category, Length: 267, dtype: object\n"
     ]
    },
    {
     "data": {
      "text/plain": [
       "career_level       int64\n",
       "hard_skills       object\n",
       "title             object\n",
       "title_category    object\n",
       "title_mapped       int64\n",
       "dtype: object"
      ]
     },
     "execution_count": 2070,
     "metadata": {},
     "output_type": "execute_result"
    }
   ],
   "source": [
    "print(df.title_category)\n",
    "df.dtypes"
   ]
  },
  {
   "cell_type": "markdown",
   "metadata": {},
   "source": [
    "**Stage 1 - Visualisation**"
   ]
  },
  {
   "cell_type": "code",
   "execution_count": 2071,
   "metadata": {},
   "outputs": [
    {
     "data": {
      "image/png": "[encoded data removed]",
      "text/plain": [
       "<Figure size 800x600 with 1 Axes>"
      ]
     },
     "metadata": {},
     "output_type": "display_data"
    }
   ],
   "source": [
    "import matplotlib.pyplot as plt\n",
    "\n",
    "#AI assistance for syntax only\n",
    "outliers = df[df['title_mapped'] > 8]\n",
    "\n",
    "#ORIGINAL\n",
    "plt.figure(figsize=(8, 6))\n",
    "plt.scatter(df.index, df['title_mapped'], label='Normal')\n",
    "plt.scatter(outliers.index, outliers['title_mapped'], color='red', label='Outliers')\n",
    "plt.xlabel('index')\n",
    "plt.ylabel('title values')\n",
    "plt.title('finding job role outliers')\n",
    "plt.legend()\n",
    "plt.show()"
   ]
  },
  {
   "cell_type": "markdown",
   "metadata": {},
   "source": [
    "This is a simple scatter graph that displays the mapped_title values as they are throughout the index. This visualises the outliers we have within the categories as we know any number above 8 in the categories are classed as other, and therfore, uncategorised. As we are not dealing with data that requires special cases we should remove these values to improve the accuracy."
   ]
  },
  {
   "cell_type": "markdown",
   "metadata": {},
   "source": [
    "**Stage 1 - Cleaning**"
   ]
  },
  {
   "cell_type": "code",
   "execution_count": 2072,
   "metadata": {},
   "outputs": [
    {
     "name": "stdout",
     "output_type": "stream",
     "text": [
      "52     Apprenticeships in SEO, Paid Media and Plannin...\n",
      "75       Graduate Software Test Analyst, French speaking\n",
      "77                                  UX and CRO Executive\n",
      "91                                 Non functional Tester\n",
      "196                       Content Marketing Co ordinator\n",
      "Name: title, dtype: object\n"
     ]
    }
   ],
   "source": [
    "#if the mapped title = 9 then print\n",
    "other = df[df['title_mapped'] == 9]\n",
    "\n",
    "print(other['title'])"
   ]
  },
  {
   "cell_type": "markdown",
   "metadata": {},
   "source": [
    "Now we have identified the 'other' category as the outliers we can print the index numbers of these samples to locate them. "
   ]
  },
  {
   "cell_type": "code",
   "execution_count": 2073,
   "metadata": {},
   "outputs": [
    {
     "name": "stdout",
     "output_type": "stream",
     "text": [
      "Series([], Name: title, dtype: object)\n"
     ]
    }
   ],
   "source": [
    "#drop outliers\n",
    "df = df.drop([52, 77, 75, 91, 196])\n",
    "other = df[df['title_mapped'] == 9]\n",
    "print(other['title'])"
   ]
  },
  {
   "cell_type": "markdown",
   "metadata": {},
   "source": [
    "Dropping the samples now mean all roles in our dataframe are correctly categorised. Cleaned and Formatted."
   ]
  },
  {
   "cell_type": "code",
   "execution_count": 2074,
   "metadata": {},
   "outputs": [
    {
     "data": {
      "text/plain": [
       "career_level       int64\n",
       "hard_skills       object\n",
       "title             object\n",
       "title_category    object\n",
       "title_mapped       int64\n",
       "dtype: object"
      ]
     },
     "execution_count": 2074,
     "metadata": {},
     "output_type": "execute_result"
    }
   ],
   "source": [
    "#check data types\n",
    "df.dtypes"
   ]
  },
  {
   "cell_type": "markdown",
   "metadata": {},
   "source": [
    "career_level and titles are now converted to integers, meaning the model can accurately test and train using these features. "
   ]
  },
  {
   "cell_type": "code",
   "execution_count": 2075,
   "metadata": {},
   "outputs": [
    {
     "name": "stdout",
     "output_type": "stream",
     "text": [
      "0                                                    NaN\n",
      "1                                                    NaN\n",
      "2      chef, provisioning, bash, python, ruby, config...\n",
      "3      chef, provisioning, bash, python, ruby, config...\n",
      "4                 windows, linux, .net,dotnet,dotnetcore\n",
      "                             ...                        \n",
      "262                                                  NaN\n",
      "263    javascript, integration, javascript|js|es6|ecm...\n",
      "264                       php, bash, linux, python, ruby\n",
      "265                                                  NaN\n",
      "266    javascript, javascript|js|es6|ecmascript|ecmas...\n",
      "Name: hard_skills, Length: 262, dtype: object\n"
     ]
    }
   ],
   "source": [
    "print(df['hard_skills'])"
   ]
  },
  {
   "cell_type": "markdown",
   "metadata": {},
   "source": [
    "Now let's clean the hard_skills feature as we cannot recieve NaN values when training a model.\n",
    "\n",
    " For simplicity we will remove them, however, in version 2 we could consider filling the NaN samples with predicted data to increase the amount of samples in our dataframe."
   ]
  },
  {
   "cell_type": "code",
   "execution_count": 2076,
   "metadata": {},
   "outputs": [
    {
     "name": "stdout",
     "output_type": "stream",
     "text": [
      "2      chef, provisioning, bash, python, ruby, config...\n",
      "3      chef, provisioning, bash, python, ruby, config...\n",
      "4                 windows, linux, .net,dotnet,dotnetcore\n",
      "6      javascript, javascript|js|es6|ecmascript|ecmas...\n",
      "7      javascript, javascript|js|es6|ecmascript|ecmas...\n",
      "                             ...                        \n",
      "259    cucumber,cucumberbdd, watir, ranorex, soapui, ...\n",
      "261    javascript, javascript|js|es6|ecmascript|ecmas...\n",
      "263    javascript, integration, javascript|js|es6|ecm...\n",
      "264                       php, bash, linux, python, ruby\n",
      "266    javascript, javascript|js|es6|ecmascript|ecmas...\n",
      "Name: hard_skills, Length: 153, dtype: object\n"
     ]
    }
   ],
   "source": [
    "# drop all NaN samples within the feature hard_skills\n",
    "df.dropna(subset=['hard_skills'], inplace=True)\n",
    "print(df['hard_skills'])"
   ]
  },
  {
   "cell_type": "markdown",
   "metadata": {},
   "source": [
    "This shows the hard_skills feature now cleaned without NaN values."
   ]
  },
  {
   "cell_type": "markdown",
   "metadata": {},
   "source": [
    "**Stage 1 - Formatting, Normalisation and Visualisation of hard_skills**"
   ]
  },
  {
   "cell_type": "code",
   "execution_count": 2077,
   "metadata": {},
   "outputs": [
    {
     "name": "stdout",
     "output_type": "stream",
     "text": [
      "2      [chef, provisioning, bash, python, ruby, confi...\n",
      "3      [chef, provisioning, bash, python, ruby, confi...\n",
      "4               [windows, linux, .net,dotnet,dotnetcore]\n",
      "6      [javascript, javascript|js|es6|ecmascript|ecma...\n",
      "7      [javascript, javascript|js|es6|ecmascript|ecma...\n",
      "                             ...                        \n",
      "259    [cucumber,cucumberbdd, watir, ranorex, soapui,...\n",
      "261    [javascript, javascript|js|es6|ecmascript|ecma...\n",
      "263    [javascript, integration, javascript|js|es6|ec...\n",
      "264                     [php, bash, linux, python, ruby]\n",
      "266    [javascript, javascript|js|es6|ecmascript|ecma...\n",
      "Name: hard_skills, Length: 153, dtype: object\n"
     ]
    }
   ],
   "source": [
    "#collecting the unique skills into a useable variable\n",
    "unique_skills = wordlist[\"unique_skills\"][0][\"skills\"]\n",
    "\n",
    "#AI Assistance[formatting issue found, values not recognised by model]\n",
    "#splitting the hard skills into lists for formatting\n",
    "df['hard_skills'] = df['hard_skills'].apply(lambda x: x.split(', '))\n",
    "\n",
    "#check\n",
    "print(df[\"hard_skills\"])\n"
   ]
  },
  {
   "cell_type": "markdown",
   "metadata": {},
   "source": [
    "In final stage of formatting, we extract the skills from the wordlist to use them in our code and split the samples into lists to further format the skills. \n",
    "\n",
    "**Note:** when trying to normalise the hard_skills feature, the model would not recognise the way the skills were presented in the dataframe. AI assistance allowed me to identify the issue and split the data into lists of strings that the model could read. To see this in context comment out the line which splits hard_skills using lambda."
   ]
  },
  {
   "cell_type": "code",
   "execution_count": 2078,
   "metadata": {},
   "outputs": [
    {
     "name": "stdout",
     "output_type": "stream",
     "text": [
      "     configuration management  sql  html  aws,amazon web services  agile  \\\n",
      "2                           1    0     0                        0      0   \n",
      "3                           1    0     0                        0      0   \n",
      "4                           0    0     0                        0      0   \n",
      "6                           0    0     1                        0      0   \n",
      "7                           0    0     1                        0      0   \n",
      "..                        ...  ...   ...                      ...    ...   \n",
      "259                         0    0     0                        0      0   \n",
      "261                         0    0     1                        0      0   \n",
      "263                         0    0     1                        0      0   \n",
      "264                         0    0     0                        0      0   \n",
      "266                         0    0     1                        0      0   \n",
      "\n",
      "     jira  css  c  sqlserver,sql server,sqldatatools  javascript  ...  gulp  \\\n",
      "2       0    0  0                                  0           0  ...     0   \n",
      "3       0    0  0                                  0           0  ...     0   \n",
      "4       0    0  0                                  0           0  ...     0   \n",
      "6       0    1  0                                  0           1  ...     0   \n",
      "7       0    1  0                                  0           1  ...     0   \n",
      "..    ...  ... ..                                ...         ...  ...   ...   \n",
      "259     0    0  0                                  0           0  ...     0   \n",
      "261     0    1  0                                  0           1  ...     0   \n",
      "263     0    1  1                                  0           1  ...     0   \n",
      "264     0    0  0                                  0           0  ...     0   \n",
      "266     0    1  0                                  0           1  ...     1   \n",
      "\n",
      "     svn  bootstrap  sass  drupal  serverless  symfony  teamcity  \\\n",
      "2      0          0     0       0           0        0         0   \n",
      "3      0          0     0       0           0        0         0   \n",
      "4      0          0     0       0           0        0         0   \n",
      "6      0          0     1       0           0        0         0   \n",
      "7      0          0     1       0           0        0         0   \n",
      "..   ...        ...   ...     ...         ...      ...       ...   \n",
      "259    0          0     0       0           0        0         0   \n",
      "261    0          0     0       0           0        0         0   \n",
      "263    0          0     0       0           0        0         0   \n",
      "264    0          0     0       0           0        0         0   \n",
      "266    0          0     0       0           0        0         0   \n",
      "\n",
      "     reactjs,react.js  npm  \n",
      "2                   0    0  \n",
      "3                   0    0  \n",
      "4                   0    0  \n",
      "6                   0    0  \n",
      "7                   0    0  \n",
      "..                ...  ...  \n",
      "259                 0    0  \n",
      "261                 0    0  \n",
      "263                 0    0  \n",
      "264                 0    0  \n",
      "266                 0    0  \n",
      "\n",
      "[153 rows x 62 columns]\n"
     ]
    }
   ],
   "source": [
    "#binary matrix frame creation\n",
    "matrix = pd.DataFrame(0, index=df.index, columns=unique_skills)\n",
    "\n",
    "\n",
    "#iterating through the current row\n",
    "for idx, row in df.iterrows():\n",
    "    #if skill visable in row, replace 0 for 1\n",
    "    for skill in row['hard_skills']:\n",
    "        if skill in unique_skills:\n",
    "            matrix.loc[idx, skill] = 1\n",
    "        \n",
    "print(matrix)"
   ]
  },
  {
   "cell_type": "markdown",
   "metadata": {},
   "source": [
    "As the hard_skills feature is an extensive list with repeating values, we can not categorise the data into ordinal integers. Instead we normalise the data using a binary matrix. This code iterates through each sample in the dataframe, it then creates a column for each skill in the unique_skills list. If the skill in the string in the hard_skills feature is present then the collumn that represents that skill will show a 1, if the skill is absent, a 0 will be shown.\n",
    "\n",
    "- 1 for True\n",
    "- 0 for False"
   ]
  },
  {
   "cell_type": "code",
   "execution_count": 2079,
   "metadata": {},
   "outputs": [
    {
     "name": "stdout",
     "output_type": "stream",
     "text": [
      "     career_level                                        hard_skills  \\\n",
      "2               0  [chef, provisioning, bash, python, ruby, confi...   \n",
      "3               0  [chef, provisioning, bash, python, ruby, confi...   \n",
      "4               0           [windows, linux, .net,dotnet,dotnetcore]   \n",
      "6               2  [javascript, javascript|js|es6|ecmascript|ecma...   \n",
      "7               0  [javascript, javascript|js|es6|ecmascript|ecma...   \n",
      "..            ...                                                ...   \n",
      "259             0  [cucumber,cucumberbdd, watir, ranorex, soapui,...   \n",
      "261             2  [javascript, javascript|js|es6|ecmascript|ecma...   \n",
      "263             0  [javascript, integration, javascript|js|es6|ec...   \n",
      "264             2                   [php, bash, linux, python, ruby]   \n",
      "266             0  [javascript, javascript|js|es6|ecmascript|ecma...   \n",
      "\n",
      "                                         title title_category  title_mapped  \\\n",
      "2                  Platform Engineer – Windows      technical             5   \n",
      "3            Platform Engineer – Linux and AWS      technical             5   \n",
      "4            Graduate Tech Operations Engineer      technical             5   \n",
      "6                             Senior Developer      developer             0   \n",
      "7             Junior and Mid Weight Developers      developer             0   \n",
      "..                                         ...            ...           ...   \n",
      "259  Lead SDET/Lead Software Developer in Test      developer             0   \n",
      "261    Full Stack Mid/Senior PHP Web Developer      developer             0   \n",
      "263           Front End Web Designer/Developer      developer             0   \n",
      "264                     Senior DevOps Engineer       engineer             1   \n",
      "266               Front End Software Engineers       engineer             1   \n",
      "\n",
      "     configuration management  sql  html  aws,amazon web services  agile  ...  \\\n",
      "2                           1    0     0                        0      0  ...   \n",
      "3                           1    0     0                        0      0  ...   \n",
      "4                           0    0     0                        0      0  ...   \n",
      "6                           0    0     1                        0      0  ...   \n",
      "7                           0    0     1                        0      0  ...   \n",
      "..                        ...  ...   ...                      ...    ...  ...   \n",
      "259                         0    0     0                        0      0  ...   \n",
      "261                         0    0     1                        0      0  ...   \n",
      "263                         0    0     1                        0      0  ...   \n",
      "264                         0    0     0                        0      0  ...   \n",
      "266                         0    0     1                        0      0  ...   \n",
      "\n",
      "     gulp  svn  bootstrap  sass  drupal  serverless  symfony  teamcity  \\\n",
      "2       0    0          0     0       0           0        0         0   \n",
      "3       0    0          0     0       0           0        0         0   \n",
      "4       0    0          0     0       0           0        0         0   \n",
      "6       0    0          0     1       0           0        0         0   \n",
      "7       0    0          0     1       0           0        0         0   \n",
      "..    ...  ...        ...   ...     ...         ...      ...       ...   \n",
      "259     0    0          0     0       0           0        0         0   \n",
      "261     0    0          0     0       0           0        0         0   \n",
      "263     0    0          0     0       0           0        0         0   \n",
      "264     0    0          0     0       0           0        0         0   \n",
      "266     1    0          0     0       0           0        0         0   \n",
      "\n",
      "     reactjs,react.js  npm  \n",
      "2                   0    0  \n",
      "3                   0    0  \n",
      "4                   0    0  \n",
      "6                   0    0  \n",
      "7                   0    0  \n",
      "..                ...  ...  \n",
      "259                 0    0  \n",
      "261                 0    0  \n",
      "263                 0    0  \n",
      "264                 0    0  \n",
      "266                 0    0  \n",
      "\n",
      "[153 rows x 67 columns]\n"
     ]
    }
   ],
   "source": [
    "#merge the binary matrix with the original\n",
    "df = pd.concat([df, matrix], axis=1)\n",
    "print(df)"
   ]
  },
  {
   "cell_type": "markdown",
   "metadata": {},
   "source": [
    "The binary matrix is now concatenated with the original dataframe."
   ]
  },
  {
   "cell_type": "code",
   "execution_count": 2080,
   "metadata": {},
   "outputs": [
    {
     "data": {
      "image/png": "[encoded data removed]",
      "text/plain": [
       "<Figure size 1200x600 with 1 Axes>"
      ]
     },
     "metadata": {},
     "output_type": "display_data"
    }
   ],
   "source": [
    "#AI assistance[This code is written by the author, however, the values formatted using AI]\n",
    "skill_counts = df[unique_skills].sum()\n",
    "plt.figure(figsize=(12, 6))\n",
    "skill_counts.plot(kind='bar')\n",
    "plt.xlabel('skills')\n",
    "plt.ylabel('Frequency')\n",
    "plt.title('How much unique skills are used')\n",
    "plt.xticks(rotation=90)  \n",
    "plt.tight_layout()\n",
    "plt.show()"
   ]
  },
  {
   "cell_type": "markdown",
   "metadata": {},
   "source": [
    "Using the same logic learnt for the scatter graph. This bar graph collects the unique skills collumns in the dataframe and shows how many times there are used within the hard_skills. This gives me an idea of what collums to drop in the wordlist. Any skills that are used less than 5 times should be removed for accuracy purposes."
   ]
  },
  {
   "cell_type": "markdown",
   "metadata": {},
   "source": [
    "**Note:** Here is a list of the skills being removed: (This is only for the first version of the model. For increased variability and useability these can be added in Version 2)\n",
    "Zend\n",
    "Photography\n",
    "couchbase\n",
    "ubuntu\n",
    "subversion\n",
    "vb\n",
    "team foundation server\n",
    "cvs\n",
    "jmeter\n",
    "continues integration\n",
    "continueous delivery\n",
    "salt\n",
    "kubernetes\n",
    "ansible\n",
    "rspec\n",
    "fireworks\n",
    "vcloud\n",
    "optimization\n",
    "unit testing\n",
    "codeignite\n",
    "lua\n",
    "ranorex\n",
    "hadoop\n",
    "redis\n",
    "soapui\n",
    "debian\n",
    "bamboo\n",
    "xcode\n",
    "jbehave\n",
    "paas\n",
    "moch\n",
    "jasmine\n",
    "typography\n",
    "gitlab\n",
    "mac\n",
    "kanban\n",
    "github\n",
    "iaas\n",
    "cocoon"
   ]
  },
  {
   "cell_type": "markdown",
   "metadata": {},
   "source": [
    "**Stage - 1 Exploration**"
   ]
  },
  {
   "cell_type": "code",
   "execution_count": 2081,
   "metadata": {},
   "outputs": [
    {
     "data": {
      "text/plain": [
       "career_level         int64\n",
       "hard_skills         object\n",
       "title               object\n",
       "title_category      object\n",
       "title_mapped         int64\n",
       "                     ...  \n",
       "serverless           int64\n",
       "symfony              int64\n",
       "teamcity             int64\n",
       "reactjs,react.js     int64\n",
       "npm                  int64\n",
       "Length: 67, dtype: object"
      ]
     },
     "execution_count": 2081,
     "metadata": {},
     "output_type": "execute_result"
    }
   ],
   "source": [
    "df.dtypes"
   ]
  },
  {
   "cell_type": "markdown",
   "metadata": {},
   "source": [
    "All categories have been mapped to an integer datatype now. The hard_skills in the form of a binary matrix and the title has been mapped catagorically."
   ]
  },
  {
   "cell_type": "code",
   "execution_count": 2082,
   "metadata": {},
   "outputs": [
    {
     "data": {
      "text/plain": [
       "(153, 67)"
      ]
     },
     "execution_count": 2082,
     "metadata": {},
     "output_type": "execute_result"
    }
   ],
   "source": [
    "df.shape"
   ]
  },
  {
   "cell_type": "markdown",
   "metadata": {},
   "source": [
    "Shape has changed drastically. Rows have been cut down by over 100, columns increased by 65.  "
   ]
  },
  {
   "cell_type": "code",
   "execution_count": 2083,
   "metadata": {},
   "outputs": [
    {
     "data": {
      "text/html": [
       "<div>\n",
       "<style scoped>\n",
       "    .dataframe tbody tr th:only-of-type {\n",
       "        vertical-align: middle;\n",
       "    }\n",
       "\n",
       "    .dataframe tbody tr th {\n",
       "        vertical-align: top;\n",
       "    }\n",
       "\n",
       "    .dataframe thead th {\n",
       "        text-align: right;\n",
       "    }\n",
       "</style>\n",
       "<table border=\"1\" class=\"dataframe\">\n",
       "  <thead>\n",
       "    <tr style=\"text-align: right;\">\n",
       "      <th></th>\n",
       "      <th>career_level</th>\n",
       "      <th>title_mapped</th>\n",
       "      <th>configuration management</th>\n",
       "      <th>sql</th>\n",
       "      <th>html</th>\n",
       "      <th>aws,amazon web services</th>\n",
       "      <th>agile</th>\n",
       "      <th>jira</th>\n",
       "      <th>css</th>\n",
       "      <th>c</th>\n",
       "      <th>...</th>\n",
       "      <th>gulp</th>\n",
       "      <th>svn</th>\n",
       "      <th>bootstrap</th>\n",
       "      <th>sass</th>\n",
       "      <th>drupal</th>\n",
       "      <th>serverless</th>\n",
       "      <th>symfony</th>\n",
       "      <th>teamcity</th>\n",
       "      <th>reactjs,react.js</th>\n",
       "      <th>npm</th>\n",
       "    </tr>\n",
       "  </thead>\n",
       "  <tbody>\n",
       "    <tr>\n",
       "      <th>count</th>\n",
       "      <td>153.000000</td>\n",
       "      <td>153.000000</td>\n",
       "      <td>153.000000</td>\n",
       "      <td>153.000000</td>\n",
       "      <td>153.000000</td>\n",
       "      <td>153.000000</td>\n",
       "      <td>153.000000</td>\n",
       "      <td>153.000000</td>\n",
       "      <td>153.000000</td>\n",
       "      <td>153.000000</td>\n",
       "      <td>...</td>\n",
       "      <td>153.000000</td>\n",
       "      <td>153.000000</td>\n",
       "      <td>153.000000</td>\n",
       "      <td>153.000000</td>\n",
       "      <td>153.000000</td>\n",
       "      <td>153.000000</td>\n",
       "      <td>153.000000</td>\n",
       "      <td>153.000000</td>\n",
       "      <td>153.000000</td>\n",
       "      <td>153.000000</td>\n",
       "    </tr>\n",
       "    <tr>\n",
       "      <th>mean</th>\n",
       "      <td>0.555556</td>\n",
       "      <td>2.692810</td>\n",
       "      <td>0.019608</td>\n",
       "      <td>0.202614</td>\n",
       "      <td>0.254902</td>\n",
       "      <td>0.065359</td>\n",
       "      <td>0.169935</td>\n",
       "      <td>0.032680</td>\n",
       "      <td>0.241830</td>\n",
       "      <td>0.169935</td>\n",
       "      <td>...</td>\n",
       "      <td>0.032680</td>\n",
       "      <td>0.019608</td>\n",
       "      <td>0.019608</td>\n",
       "      <td>0.058824</td>\n",
       "      <td>0.013072</td>\n",
       "      <td>0.013072</td>\n",
       "      <td>0.019608</td>\n",
       "      <td>0.019608</td>\n",
       "      <td>0.019608</td>\n",
       "      <td>0.013072</td>\n",
       "    </tr>\n",
       "    <tr>\n",
       "      <th>std</th>\n",
       "      <td>0.965789</td>\n",
       "      <td>2.877501</td>\n",
       "      <td>0.139104</td>\n",
       "      <td>0.403268</td>\n",
       "      <td>0.437237</td>\n",
       "      <td>0.247971</td>\n",
       "      <td>0.376809</td>\n",
       "      <td>0.178381</td>\n",
       "      <td>0.429598</td>\n",
       "      <td>0.376809</td>\n",
       "      <td>...</td>\n",
       "      <td>0.178381</td>\n",
       "      <td>0.139104</td>\n",
       "      <td>0.139104</td>\n",
       "      <td>0.236067</td>\n",
       "      <td>0.113956</td>\n",
       "      <td>0.113956</td>\n",
       "      <td>0.139104</td>\n",
       "      <td>0.139104</td>\n",
       "      <td>0.139104</td>\n",
       "      <td>0.113956</td>\n",
       "    </tr>\n",
       "    <tr>\n",
       "      <th>min</th>\n",
       "      <td>0.000000</td>\n",
       "      <td>0.000000</td>\n",
       "      <td>0.000000</td>\n",
       "      <td>0.000000</td>\n",
       "      <td>0.000000</td>\n",
       "      <td>0.000000</td>\n",
       "      <td>0.000000</td>\n",
       "      <td>0.000000</td>\n",
       "      <td>0.000000</td>\n",
       "      <td>0.000000</td>\n",
       "      <td>...</td>\n",
       "      <td>0.000000</td>\n",
       "      <td>0.000000</td>\n",
       "      <td>0.000000</td>\n",
       "      <td>0.000000</td>\n",
       "      <td>0.000000</td>\n",
       "      <td>0.000000</td>\n",
       "      <td>0.000000</td>\n",
       "      <td>0.000000</td>\n",
       "      <td>0.000000</td>\n",
       "      <td>0.000000</td>\n",
       "    </tr>\n",
       "    <tr>\n",
       "      <th>25%</th>\n",
       "      <td>0.000000</td>\n",
       "      <td>0.000000</td>\n",
       "      <td>0.000000</td>\n",
       "      <td>0.000000</td>\n",
       "      <td>0.000000</td>\n",
       "      <td>0.000000</td>\n",
       "      <td>0.000000</td>\n",
       "      <td>0.000000</td>\n",
       "      <td>0.000000</td>\n",
       "      <td>0.000000</td>\n",
       "      <td>...</td>\n",
       "      <td>0.000000</td>\n",
       "      <td>0.000000</td>\n",
       "      <td>0.000000</td>\n",
       "      <td>0.000000</td>\n",
       "      <td>0.000000</td>\n",
       "      <td>0.000000</td>\n",
       "      <td>0.000000</td>\n",
       "      <td>0.000000</td>\n",
       "      <td>0.000000</td>\n",
       "      <td>0.000000</td>\n",
       "    </tr>\n",
       "    <tr>\n",
       "      <th>50%</th>\n",
       "      <td>0.000000</td>\n",
       "      <td>1.000000</td>\n",
       "      <td>0.000000</td>\n",
       "      <td>0.000000</td>\n",
       "      <td>0.000000</td>\n",
       "      <td>0.000000</td>\n",
       "      <td>0.000000</td>\n",
       "      <td>0.000000</td>\n",
       "      <td>0.000000</td>\n",
       "      <td>0.000000</td>\n",
       "      <td>...</td>\n",
       "      <td>0.000000</td>\n",
       "      <td>0.000000</td>\n",
       "      <td>0.000000</td>\n",
       "      <td>0.000000</td>\n",
       "      <td>0.000000</td>\n",
       "      <td>0.000000</td>\n",
       "      <td>0.000000</td>\n",
       "      <td>0.000000</td>\n",
       "      <td>0.000000</td>\n",
       "      <td>0.000000</td>\n",
       "    </tr>\n",
       "    <tr>\n",
       "      <th>75%</th>\n",
       "      <td>1.000000</td>\n",
       "      <td>5.000000</td>\n",
       "      <td>0.000000</td>\n",
       "      <td>0.000000</td>\n",
       "      <td>1.000000</td>\n",
       "      <td>0.000000</td>\n",
       "      <td>0.000000</td>\n",
       "      <td>0.000000</td>\n",
       "      <td>0.000000</td>\n",
       "      <td>0.000000</td>\n",
       "      <td>...</td>\n",
       "      <td>0.000000</td>\n",
       "      <td>0.000000</td>\n",
       "      <td>0.000000</td>\n",
       "      <td>0.000000</td>\n",
       "      <td>0.000000</td>\n",
       "      <td>0.000000</td>\n",
       "      <td>0.000000</td>\n",
       "      <td>0.000000</td>\n",
       "      <td>0.000000</td>\n",
       "      <td>0.000000</td>\n",
       "    </tr>\n",
       "    <tr>\n",
       "      <th>max</th>\n",
       "      <td>3.000000</td>\n",
       "      <td>8.000000</td>\n",
       "      <td>1.000000</td>\n",
       "      <td>1.000000</td>\n",
       "      <td>1.000000</td>\n",
       "      <td>1.000000</td>\n",
       "      <td>1.000000</td>\n",
       "      <td>1.000000</td>\n",
       "      <td>1.000000</td>\n",
       "      <td>1.000000</td>\n",
       "      <td>...</td>\n",
       "      <td>1.000000</td>\n",
       "      <td>1.000000</td>\n",
       "      <td>1.000000</td>\n",
       "      <td>1.000000</td>\n",
       "      <td>1.000000</td>\n",
       "      <td>1.000000</td>\n",
       "      <td>1.000000</td>\n",
       "      <td>1.000000</td>\n",
       "      <td>1.000000</td>\n",
       "      <td>1.000000</td>\n",
       "    </tr>\n",
       "  </tbody>\n",
       "</table>\n",
       "<p>8 rows × 64 columns</p>\n",
       "</div>"
      ],
      "text/plain": [
       "       career_level  title_mapped  configuration management         sql  \\\n",
       "count    153.000000    153.000000                153.000000  153.000000   \n",
       "mean       0.555556      2.692810                  0.019608    0.202614   \n",
       "std        0.965789      2.877501                  0.139104    0.403268   \n",
       "min        0.000000      0.000000                  0.000000    0.000000   \n",
       "25%        0.000000      0.000000                  0.000000    0.000000   \n",
       "50%        0.000000      1.000000                  0.000000    0.000000   \n",
       "75%        1.000000      5.000000                  0.000000    0.000000   \n",
       "max        3.000000      8.000000                  1.000000    1.000000   \n",
       "\n",
       "             html  aws,amazon web services       agile        jira  \\\n",
       "count  153.000000               153.000000  153.000000  153.000000   \n",
       "mean     0.254902                 0.065359    0.169935    0.032680   \n",
       "std      0.437237                 0.247971    0.376809    0.178381   \n",
       "min      0.000000                 0.000000    0.000000    0.000000   \n",
       "25%      0.000000                 0.000000    0.000000    0.000000   \n",
       "50%      0.000000                 0.000000    0.000000    0.000000   \n",
       "75%      1.000000                 0.000000    0.000000    0.000000   \n",
       "max      1.000000                 1.000000    1.000000    1.000000   \n",
       "\n",
       "              css           c  ...        gulp         svn   bootstrap  \\\n",
       "count  153.000000  153.000000  ...  153.000000  153.000000  153.000000   \n",
       "mean     0.241830    0.169935  ...    0.032680    0.019608    0.019608   \n",
       "std      0.429598    0.376809  ...    0.178381    0.139104    0.139104   \n",
       "min      0.000000    0.000000  ...    0.000000    0.000000    0.000000   \n",
       "25%      0.000000    0.000000  ...    0.000000    0.000000    0.000000   \n",
       "50%      0.000000    0.000000  ...    0.000000    0.000000    0.000000   \n",
       "75%      0.000000    0.000000  ...    0.000000    0.000000    0.000000   \n",
       "max      1.000000    1.000000  ...    1.000000    1.000000    1.000000   \n",
       "\n",
       "             sass      drupal  serverless     symfony    teamcity  \\\n",
       "count  153.000000  153.000000  153.000000  153.000000  153.000000   \n",
       "mean     0.058824    0.013072    0.013072    0.019608    0.019608   \n",
       "std      0.236067    0.113956    0.113956    0.139104    0.139104   \n",
       "min      0.000000    0.000000    0.000000    0.000000    0.000000   \n",
       "25%      0.000000    0.000000    0.000000    0.000000    0.000000   \n",
       "50%      0.000000    0.000000    0.000000    0.000000    0.000000   \n",
       "75%      0.000000    0.000000    0.000000    0.000000    0.000000   \n",
       "max      1.000000    1.000000    1.000000    1.000000    1.000000   \n",
       "\n",
       "       reactjs,react.js         npm  \n",
       "count        153.000000  153.000000  \n",
       "mean           0.019608    0.013072  \n",
       "std            0.139104    0.113956  \n",
       "min            0.000000    0.000000  \n",
       "25%            0.000000    0.000000  \n",
       "50%            0.000000    0.000000  \n",
       "75%            0.000000    0.000000  \n",
       "max            1.000000    1.000000  \n",
       "\n",
       "[8 rows x 64 columns]"
      ]
     },
     "execution_count": 2083,
     "metadata": {},
     "output_type": "execute_result"
    }
   ],
   "source": [
    "df.describe()"
   ]
  },
  {
   "cell_type": "markdown",
   "metadata": {},
   "source": [
    "The statistics shows us that we have correctly converted all columns and it now displays the mean and standard deviation for the columns giving us more information on the data. "
   ]
  },
  {
   "cell_type": "code",
   "execution_count": 2084,
   "metadata": {},
   "outputs": [
    {
     "data": {
      "text/plain": [
       "career_level        0\n",
       "hard_skills         0\n",
       "title               0\n",
       "title_category      0\n",
       "title_mapped        0\n",
       "                   ..\n",
       "serverless          0\n",
       "symfony             0\n",
       "teamcity            0\n",
       "reactjs,react.js    0\n",
       "npm                 0\n",
       "Length: 67, dtype: int64"
      ]
     },
     "execution_count": 2084,
     "metadata": {},
     "output_type": "execute_result"
    }
   ],
   "source": [
    "#check remaining NaN values\n",
    "df.isnull().sum()"
   ]
  },
  {
   "cell_type": "markdown",
   "metadata": {},
   "source": [
    "0 Null Values. Missing Values have been cleaned."
   ]
  },
  {
   "cell_type": "code",
   "execution_count": 2085,
   "metadata": {},
   "outputs": [
    {
     "name": "stdout",
     "output_type": "stream",
     "text": [
      "     career_level                                        hard_skills  \\\n",
      "2               0  [chef, provisioning, bash, python, ruby, confi...   \n",
      "3               0  [chef, provisioning, bash, python, ruby, confi...   \n",
      "4               0           [windows, linux, .net,dotnet,dotnetcore]   \n",
      "6               2  [javascript, javascript|js|es6|ecmascript|ecma...   \n",
      "7               0  [javascript, javascript|js|es6|ecmascript|ecma...   \n",
      "..            ...                                                ...   \n",
      "259             0  [cucumber,cucumberbdd, watir, ranorex, soapui,...   \n",
      "261             2  [javascript, javascript|js|es6|ecmascript|ecma...   \n",
      "263             0  [javascript, integration, javascript|js|es6|ec...   \n",
      "264             2                   [php, bash, linux, python, ruby]   \n",
      "266             0  [javascript, javascript|js|es6|ecmascript|ecma...   \n",
      "\n",
      "                                         title title_category  title_mapped  \\\n",
      "2                  Platform Engineer – Windows      technical             5   \n",
      "3            Platform Engineer – Linux and AWS      technical             5   \n",
      "4            Graduate Tech Operations Engineer      technical             5   \n",
      "6                             Senior Developer      developer             0   \n",
      "7             Junior and Mid Weight Developers      developer             0   \n",
      "..                                         ...            ...           ...   \n",
      "259  Lead SDET/Lead Software Developer in Test      developer             0   \n",
      "261    Full Stack Mid/Senior PHP Web Developer      developer             0   \n",
      "263           Front End Web Designer/Developer      developer             0   \n",
      "264                     Senior DevOps Engineer       engineer             1   \n",
      "266               Front End Software Engineers       engineer             1   \n",
      "\n",
      "     configuration management  sql  html  aws,amazon web services  agile  ...  \\\n",
      "2                           1    0     0                        0      0  ...   \n",
      "3                           1    0     0                        0      0  ...   \n",
      "4                           0    0     0                        0      0  ...   \n",
      "6                           0    0     1                        0      0  ...   \n",
      "7                           0    0     1                        0      0  ...   \n",
      "..                        ...  ...   ...                      ...    ...  ...   \n",
      "259                         0    0     0                        0      0  ...   \n",
      "261                         0    0     1                        0      0  ...   \n",
      "263                         0    0     1                        0      0  ...   \n",
      "264                         0    0     0                        0      0  ...   \n",
      "266                         0    0     1                        0      0  ...   \n",
      "\n",
      "     gulp  svn  bootstrap  sass  drupal  serverless  symfony  teamcity  \\\n",
      "2       0    0          0     0       0           0        0         0   \n",
      "3       0    0          0     0       0           0        0         0   \n",
      "4       0    0          0     0       0           0        0         0   \n",
      "6       0    0          0     1       0           0        0         0   \n",
      "7       0    0          0     1       0           0        0         0   \n",
      "..    ...  ...        ...   ...     ...         ...      ...       ...   \n",
      "259     0    0          0     0       0           0        0         0   \n",
      "261     0    0          0     0       0           0        0         0   \n",
      "263     0    0          0     0       0           0        0         0   \n",
      "264     0    0          0     0       0           0        0         0   \n",
      "266     1    0          0     0       0           0        0         0   \n",
      "\n",
      "     reactjs,react.js  npm  \n",
      "2                   0    0  \n",
      "3                   0    0  \n",
      "4                   0    0  \n",
      "6                   0    0  \n",
      "7                   0    0  \n",
      "..                ...  ...  \n",
      "259                 0    0  \n",
      "261                 0    0  \n",
      "263                 0    0  \n",
      "264                 0    0  \n",
      "266                 0    0  \n",
      "\n",
      "[153 rows x 67 columns]\n"
     ]
    }
   ],
   "source": [
    "print(df)"
   ]
  },
  {
   "cell_type": "markdown",
   "metadata": {},
   "source": [
    "**Stage 1 - Cleaning and Formatting**"
   ]
  },
  {
   "cell_type": "code",
   "execution_count": 2086,
   "metadata": {},
   "outputs": [],
   "source": [
    "#drop object type columns\n",
    "drop_columns = ['hard_skills', 'title']\n",
    "df = df.drop(columns=drop_columns)"
   ]
  },
  {
   "cell_type": "markdown",
   "metadata": {},
   "source": [
    "Finishing up the formatting and cleaning by removing the columns the model can not use for training and testing."
   ]
  },
  {
   "cell_type": "code",
   "execution_count": 2087,
   "metadata": {},
   "outputs": [
    {
     "data": {
      "text/plain": [
       "career_level                 int64\n",
       "title_category              object\n",
       "title_mapped                 int64\n",
       "configuration management     int64\n",
       "sql                          int64\n",
       "                             ...  \n",
       "serverless                   int64\n",
       "symfony                      int64\n",
       "teamcity                     int64\n",
       "reactjs,react.js             int64\n",
       "npm                          int64\n",
       "Length: 65, dtype: object"
      ]
     },
     "execution_count": 2087,
     "metadata": {},
     "output_type": "execute_result"
    }
   ],
   "source": [
    "#final data type check\n",
    "df.dtypes"
   ]
  },
  {
   "cell_type": "markdown",
   "metadata": {},
   "source": [
    "The title_category will be used as the target variable in Stage 2. The user will be inputting their own job category, skills, and career_level in so we keep the title_mapped as the model will be predicting categories close to the users current job area."
   ]
  },
  {
   "cell_type": "markdown",
   "metadata": {},
   "source": [
    "**Stage 1 Conclusion**"
   ]
  },
  {
   "cell_type": "markdown",
   "metadata": {},
   "source": [
    "This concludes the Preprocessing stage for version 1 of the model. In the future these additions could be made to improve the bias, performance and accuracy of the model:\n",
    "- Normalise title_mapped with binary matrix\n",
    "- Add all hard_skills for wider results\n",
    "- Add further features, such as soft skills, roles."
   ]
  },
  {
   "cell_type": "markdown",
   "metadata": {},
   "source": [
    "***END OF PREPROCESSING***"
   ]
  },
  {
   "cell_type": "markdown",
   "metadata": {},
   "source": [
    "***Stage 2 - Training***"
   ]
  },
  {
   "cell_type": "code",
   "execution_count": 2088,
   "metadata": {},
   "outputs": [],
   "source": [
    "#importing tools\n",
    "from sklearn.model_selection import train_test_split\n",
    "from imblearn.over_sampling import RandomOverSampler\n",
    "from sklearn.linear_model import LogisticRegression\n",
    "from sklearn.ensemble import RandomForestClassifier\n",
    "from sklearn.neighbors import KNeighborsClassifier\n",
    "from sklearn.metrics import accuracy_score,  classification_report\n",
    "from sklearn.metrics import confusion_matrix"
   ]
  },
  {
   "cell_type": "markdown",
   "metadata": {},
   "source": [
    "This model will be trained and tested on 3 different alogrithms.\n",
    "- LogisticRegression\n",
    "- RandomForestClassifier\n",
    "- KneighborsClassifier\n",
    "\n",
    "We need to import these algorthms from sklearn and the evaluation metrics we will be using."
   ]
  },
  {
   "cell_type": "markdown",
   "metadata": {},
   "source": [
    "**Stage 2 - Identifying X and y**"
   ]
  },
  {
   "cell_type": "code",
   "execution_count": 2089,
   "metadata": {},
   "outputs": [],
   "source": [
    "#target variable\n",
    "y = df.title_category\n",
    "#drop target variable from input features\n",
    "X = df.drop(columns=\"title_category\")"
   ]
  },
  {
   "cell_type": "markdown",
   "metadata": {},
   "source": [
    "- y = Target Variable (what the model is predicting)\n",
    "- X = Input Features (what the model is using to predict)\n",
    "\n",
    "\n",
    "- y = title_category (the job field the user should transition to)\n",
    "- X = title_mapped, career_level, skills_matrix.values"
   ]
  },
  {
   "cell_type": "markdown",
   "metadata": {},
   "source": [
    "**Stage 2 - Splitting Training and Testing Samples**"
   ]
  },
  {
   "cell_type": "code",
   "execution_count": 2090,
   "metadata": {},
   "outputs": [],
   "source": [
    "X_train, X_test, y_train, y_test = train_test_split(X, y, test_size=0.3, random_state=11)"
   ]
  },
  {
   "cell_type": "markdown",
   "metadata": {},
   "source": [
    "Here we are splitting our dataset into training and testing samples. The test_size is a paremeter we can set to determine how much of the dataset is tested on. o.3 means that 30%  will be used as a testing set. The random_state parameter ensures the split is reproducible, using the same random_state will give us the same split each time the code is run. This helps as we will be training and testing many times whilst developing the model."
   ]
  },
  {
   "cell_type": "markdown",
   "metadata": {},
   "source": [
    "**Stage 4 - Feature Engineering and OverSampling**"
   ]
  },
  {
   "cell_type": "code",
   "execution_count": 2091,
   "metadata": {},
   "outputs": [],
   "source": [
    "#oversampling due to low data amount\n",
    "oversampler = RandomOverSampler(random_state=42)\n",
    "X_train_resampled, y_train_resampled = oversampler.fit_resample(X_train, y_train)\n"
   ]
  },
  {
   "cell_type": "markdown",
   "metadata": {},
   "source": [
    "As we have very little samples within our dataset, we should increase the samples using RandomOverSampler. This gives the model a larger amount of data to train on. "
   ]
  },
  {
   "cell_type": "code",
   "execution_count": 2092,
   "metadata": {},
   "outputs": [
    {
     "name": "stdout",
     "output_type": "stream",
     "text": [
      "2      technical\n",
      "3      technical\n",
      "4      technical\n",
      "6      developer\n",
      "7      developer\n",
      "         ...    \n",
      "259    developer\n",
      "261    developer\n",
      "263    developer\n",
      "264     engineer\n",
      "266     engineer\n",
      "Name: title_category, Length: 153, dtype: object\n"
     ]
    }
   ],
   "source": [
    "#show the title_category\n",
    "print(y)"
   ]
  },
  {
   "cell_type": "code",
   "execution_count": 2093,
   "metadata": {},
   "outputs": [
    {
     "name": "stdout",
     "output_type": "stream",
     "text": [
      "     career_level  title_mapped  configuration management  sql  html  \\\n",
      "2               0             5                         1    0     0   \n",
      "3               0             5                         1    0     0   \n",
      "4               0             5                         0    0     0   \n",
      "6               2             0                         0    0     1   \n",
      "7               0             0                         0    0     1   \n",
      "..            ...           ...                       ...  ...   ...   \n",
      "259             0             0                         0    0     0   \n",
      "261             2             0                         0    0     1   \n",
      "263             0             0                         0    0     1   \n",
      "264             2             1                         0    0     0   \n",
      "266             0             1                         0    0     1   \n",
      "\n",
      "     aws,amazon web services  agile  jira  css  c  ...  gulp  svn  bootstrap  \\\n",
      "2                          0      0     0    0  0  ...     0    0          0   \n",
      "3                          0      0     0    0  0  ...     0    0          0   \n",
      "4                          0      0     0    0  0  ...     0    0          0   \n",
      "6                          0      0     0    1  0  ...     0    0          0   \n",
      "7                          0      0     0    1  0  ...     0    0          0   \n",
      "..                       ...    ...   ...  ... ..  ...   ...  ...        ...   \n",
      "259                        0      0     0    0  0  ...     0    0          0   \n",
      "261                        0      0     0    1  0  ...     0    0          0   \n",
      "263                        0      0     0    1  1  ...     0    0          0   \n",
      "264                        0      0     0    0  0  ...     0    0          0   \n",
      "266                        0      0     0    1  0  ...     1    0          0   \n",
      "\n",
      "     sass  drupal  serverless  symfony  teamcity  reactjs,react.js  npm  \n",
      "2       0       0           0        0         0                 0    0  \n",
      "3       0       0           0        0         0                 0    0  \n",
      "4       0       0           0        0         0                 0    0  \n",
      "6       1       0           0        0         0                 0    0  \n",
      "7       1       0           0        0         0                 0    0  \n",
      "..    ...     ...         ...      ...       ...               ...  ...  \n",
      "259     0       0           0        0         0                 0    0  \n",
      "261     0       0           0        0         0                 0    0  \n",
      "263     0       0           0        0         0                 0    0  \n",
      "264     0       0           0        0         0                 0    0  \n",
      "266     0       0           0        0         0                 0    0  \n",
      "\n",
      "[153 rows x 64 columns]\n"
     ]
    }
   ],
   "source": [
    "#show the remaining columns used to predict\n",
    "print(X)"
   ]
  },
  {
   "cell_type": "code",
   "execution_count": 2094,
   "metadata": {},
   "outputs": [
    {
     "data": {
      "text/plain": [
       "(153, 64)"
      ]
     },
     "execution_count": 2094,
     "metadata": {},
     "output_type": "execute_result"
    }
   ],
   "source": [
    "X.shape"
   ]
  },
  {
   "cell_type": "code",
   "execution_count": 2095,
   "metadata": {},
   "outputs": [
    {
     "data": {
      "text/plain": [
       "(153,)"
      ]
     },
     "execution_count": 2095,
     "metadata": {},
     "output_type": "execute_result"
    }
   ],
   "source": [
    "y.shape"
   ]
  },
  {
   "cell_type": "code",
   "execution_count": 2096,
   "metadata": {},
   "outputs": [
    {
     "data": {
      "text/plain": [
       "(396, 64)"
      ]
     },
     "execution_count": 2096,
     "metadata": {},
     "output_type": "execute_result"
    }
   ],
   "source": [
    "X_train_resampled.shape"
   ]
  },
  {
   "cell_type": "code",
   "execution_count": 2097,
   "metadata": {},
   "outputs": [
    {
     "data": {
      "text/plain": [
       "(396,)"
      ]
     },
     "execution_count": 2097,
     "metadata": {},
     "output_type": "execute_result"
    }
   ],
   "source": [
    "y_train_resampled.shape"
   ]
  },
  {
   "cell_type": "markdown",
   "metadata": {},
   "source": [
    "The resampled training sets increase the sample size by over double. "
   ]
  },
  {
   "cell_type": "code",
   "execution_count": 2098,
   "metadata": {},
   "outputs": [
    {
     "data": {
      "text/html": [
       "<div>\n",
       "<style scoped>\n",
       "    .dataframe tbody tr th:only-of-type {\n",
       "        vertical-align: middle;\n",
       "    }\n",
       "\n",
       "    .dataframe tbody tr th {\n",
       "        vertical-align: top;\n",
       "    }\n",
       "\n",
       "    .dataframe thead th {\n",
       "        text-align: right;\n",
       "    }\n",
       "</style>\n",
       "<table border=\"1\" class=\"dataframe\">\n",
       "  <thead>\n",
       "    <tr style=\"text-align: right;\">\n",
       "      <th></th>\n",
       "      <th>career_level</th>\n",
       "      <th>title_mapped</th>\n",
       "      <th>configuration management</th>\n",
       "      <th>sql</th>\n",
       "      <th>html</th>\n",
       "      <th>aws,amazon web services</th>\n",
       "      <th>agile</th>\n",
       "      <th>jira</th>\n",
       "      <th>css</th>\n",
       "      <th>c</th>\n",
       "      <th>...</th>\n",
       "      <th>gulp</th>\n",
       "      <th>svn</th>\n",
       "      <th>bootstrap</th>\n",
       "      <th>sass</th>\n",
       "      <th>drupal</th>\n",
       "      <th>serverless</th>\n",
       "      <th>symfony</th>\n",
       "      <th>teamcity</th>\n",
       "      <th>reactjs,react.js</th>\n",
       "      <th>npm</th>\n",
       "    </tr>\n",
       "  </thead>\n",
       "  <tbody>\n",
       "    <tr>\n",
       "      <th>count</th>\n",
       "      <td>153.000000</td>\n",
       "      <td>153.000000</td>\n",
       "      <td>153.000000</td>\n",
       "      <td>153.000000</td>\n",
       "      <td>153.000000</td>\n",
       "      <td>153.000000</td>\n",
       "      <td>153.000000</td>\n",
       "      <td>153.000000</td>\n",
       "      <td>153.000000</td>\n",
       "      <td>153.000000</td>\n",
       "      <td>...</td>\n",
       "      <td>153.000000</td>\n",
       "      <td>153.000000</td>\n",
       "      <td>153.000000</td>\n",
       "      <td>153.000000</td>\n",
       "      <td>153.000000</td>\n",
       "      <td>153.000000</td>\n",
       "      <td>153.000000</td>\n",
       "      <td>153.000000</td>\n",
       "      <td>153.000000</td>\n",
       "      <td>153.000000</td>\n",
       "    </tr>\n",
       "    <tr>\n",
       "      <th>mean</th>\n",
       "      <td>0.555556</td>\n",
       "      <td>2.692810</td>\n",
       "      <td>0.019608</td>\n",
       "      <td>0.202614</td>\n",
       "      <td>0.254902</td>\n",
       "      <td>0.065359</td>\n",
       "      <td>0.169935</td>\n",
       "      <td>0.032680</td>\n",
       "      <td>0.241830</td>\n",
       "      <td>0.169935</td>\n",
       "      <td>...</td>\n",
       "      <td>0.032680</td>\n",
       "      <td>0.019608</td>\n",
       "      <td>0.019608</td>\n",
       "      <td>0.058824</td>\n",
       "      <td>0.013072</td>\n",
       "      <td>0.013072</td>\n",
       "      <td>0.019608</td>\n",
       "      <td>0.019608</td>\n",
       "      <td>0.019608</td>\n",
       "      <td>0.013072</td>\n",
       "    </tr>\n",
       "    <tr>\n",
       "      <th>std</th>\n",
       "      <td>0.965789</td>\n",
       "      <td>2.877501</td>\n",
       "      <td>0.139104</td>\n",
       "      <td>0.403268</td>\n",
       "      <td>0.437237</td>\n",
       "      <td>0.247971</td>\n",
       "      <td>0.376809</td>\n",
       "      <td>0.178381</td>\n",
       "      <td>0.429598</td>\n",
       "      <td>0.376809</td>\n",
       "      <td>...</td>\n",
       "      <td>0.178381</td>\n",
       "      <td>0.139104</td>\n",
       "      <td>0.139104</td>\n",
       "      <td>0.236067</td>\n",
       "      <td>0.113956</td>\n",
       "      <td>0.113956</td>\n",
       "      <td>0.139104</td>\n",
       "      <td>0.139104</td>\n",
       "      <td>0.139104</td>\n",
       "      <td>0.113956</td>\n",
       "    </tr>\n",
       "    <tr>\n",
       "      <th>min</th>\n",
       "      <td>0.000000</td>\n",
       "      <td>0.000000</td>\n",
       "      <td>0.000000</td>\n",
       "      <td>0.000000</td>\n",
       "      <td>0.000000</td>\n",
       "      <td>0.000000</td>\n",
       "      <td>0.000000</td>\n",
       "      <td>0.000000</td>\n",
       "      <td>0.000000</td>\n",
       "      <td>0.000000</td>\n",
       "      <td>...</td>\n",
       "      <td>0.000000</td>\n",
       "      <td>0.000000</td>\n",
       "      <td>0.000000</td>\n",
       "      <td>0.000000</td>\n",
       "      <td>0.000000</td>\n",
       "      <td>0.000000</td>\n",
       "      <td>0.000000</td>\n",
       "      <td>0.000000</td>\n",
       "      <td>0.000000</td>\n",
       "      <td>0.000000</td>\n",
       "    </tr>\n",
       "    <tr>\n",
       "      <th>25%</th>\n",
       "      <td>0.000000</td>\n",
       "      <td>0.000000</td>\n",
       "      <td>0.000000</td>\n",
       "      <td>0.000000</td>\n",
       "      <td>0.000000</td>\n",
       "      <td>0.000000</td>\n",
       "      <td>0.000000</td>\n",
       "      <td>0.000000</td>\n",
       "      <td>0.000000</td>\n",
       "      <td>0.000000</td>\n",
       "      <td>...</td>\n",
       "      <td>0.000000</td>\n",
       "      <td>0.000000</td>\n",
       "      <td>0.000000</td>\n",
       "      <td>0.000000</td>\n",
       "      <td>0.000000</td>\n",
       "      <td>0.000000</td>\n",
       "      <td>0.000000</td>\n",
       "      <td>0.000000</td>\n",
       "      <td>0.000000</td>\n",
       "      <td>0.000000</td>\n",
       "    </tr>\n",
       "    <tr>\n",
       "      <th>50%</th>\n",
       "      <td>0.000000</td>\n",
       "      <td>1.000000</td>\n",
       "      <td>0.000000</td>\n",
       "      <td>0.000000</td>\n",
       "      <td>0.000000</td>\n",
       "      <td>0.000000</td>\n",
       "      <td>0.000000</td>\n",
       "      <td>0.000000</td>\n",
       "      <td>0.000000</td>\n",
       "      <td>0.000000</td>\n",
       "      <td>...</td>\n",
       "      <td>0.000000</td>\n",
       "      <td>0.000000</td>\n",
       "      <td>0.000000</td>\n",
       "      <td>0.000000</td>\n",
       "      <td>0.000000</td>\n",
       "      <td>0.000000</td>\n",
       "      <td>0.000000</td>\n",
       "      <td>0.000000</td>\n",
       "      <td>0.000000</td>\n",
       "      <td>0.000000</td>\n",
       "    </tr>\n",
       "    <tr>\n",
       "      <th>75%</th>\n",
       "      <td>1.000000</td>\n",
       "      <td>5.000000</td>\n",
       "      <td>0.000000</td>\n",
       "      <td>0.000000</td>\n",
       "      <td>1.000000</td>\n",
       "      <td>0.000000</td>\n",
       "      <td>0.000000</td>\n",
       "      <td>0.000000</td>\n",
       "      <td>0.000000</td>\n",
       "      <td>0.000000</td>\n",
       "      <td>...</td>\n",
       "      <td>0.000000</td>\n",
       "      <td>0.000000</td>\n",
       "      <td>0.000000</td>\n",
       "      <td>0.000000</td>\n",
       "      <td>0.000000</td>\n",
       "      <td>0.000000</td>\n",
       "      <td>0.000000</td>\n",
       "      <td>0.000000</td>\n",
       "      <td>0.000000</td>\n",
       "      <td>0.000000</td>\n",
       "    </tr>\n",
       "    <tr>\n",
       "      <th>max</th>\n",
       "      <td>3.000000</td>\n",
       "      <td>8.000000</td>\n",
       "      <td>1.000000</td>\n",
       "      <td>1.000000</td>\n",
       "      <td>1.000000</td>\n",
       "      <td>1.000000</td>\n",
       "      <td>1.000000</td>\n",
       "      <td>1.000000</td>\n",
       "      <td>1.000000</td>\n",
       "      <td>1.000000</td>\n",
       "      <td>...</td>\n",
       "      <td>1.000000</td>\n",
       "      <td>1.000000</td>\n",
       "      <td>1.000000</td>\n",
       "      <td>1.000000</td>\n",
       "      <td>1.000000</td>\n",
       "      <td>1.000000</td>\n",
       "      <td>1.000000</td>\n",
       "      <td>1.000000</td>\n",
       "      <td>1.000000</td>\n",
       "      <td>1.000000</td>\n",
       "    </tr>\n",
       "  </tbody>\n",
       "</table>\n",
       "<p>8 rows × 64 columns</p>\n",
       "</div>"
      ],
      "text/plain": [
       "       career_level  title_mapped  configuration management         sql  \\\n",
       "count    153.000000    153.000000                153.000000  153.000000   \n",
       "mean       0.555556      2.692810                  0.019608    0.202614   \n",
       "std        0.965789      2.877501                  0.139104    0.403268   \n",
       "min        0.000000      0.000000                  0.000000    0.000000   \n",
       "25%        0.000000      0.000000                  0.000000    0.000000   \n",
       "50%        0.000000      1.000000                  0.000000    0.000000   \n",
       "75%        1.000000      5.000000                  0.000000    0.000000   \n",
       "max        3.000000      8.000000                  1.000000    1.000000   \n",
       "\n",
       "             html  aws,amazon web services       agile        jira  \\\n",
       "count  153.000000               153.000000  153.000000  153.000000   \n",
       "mean     0.254902                 0.065359    0.169935    0.032680   \n",
       "std      0.437237                 0.247971    0.376809    0.178381   \n",
       "min      0.000000                 0.000000    0.000000    0.000000   \n",
       "25%      0.000000                 0.000000    0.000000    0.000000   \n",
       "50%      0.000000                 0.000000    0.000000    0.000000   \n",
       "75%      1.000000                 0.000000    0.000000    0.000000   \n",
       "max      1.000000                 1.000000    1.000000    1.000000   \n",
       "\n",
       "              css           c  ...        gulp         svn   bootstrap  \\\n",
       "count  153.000000  153.000000  ...  153.000000  153.000000  153.000000   \n",
       "mean     0.241830    0.169935  ...    0.032680    0.019608    0.019608   \n",
       "std      0.429598    0.376809  ...    0.178381    0.139104    0.139104   \n",
       "min      0.000000    0.000000  ...    0.000000    0.000000    0.000000   \n",
       "25%      0.000000    0.000000  ...    0.000000    0.000000    0.000000   \n",
       "50%      0.000000    0.000000  ...    0.000000    0.000000    0.000000   \n",
       "75%      0.000000    0.000000  ...    0.000000    0.000000    0.000000   \n",
       "max      1.000000    1.000000  ...    1.000000    1.000000    1.000000   \n",
       "\n",
       "             sass      drupal  serverless     symfony    teamcity  \\\n",
       "count  153.000000  153.000000  153.000000  153.000000  153.000000   \n",
       "mean     0.058824    0.013072    0.013072    0.019608    0.019608   \n",
       "std      0.236067    0.113956    0.113956    0.139104    0.139104   \n",
       "min      0.000000    0.000000    0.000000    0.000000    0.000000   \n",
       "25%      0.000000    0.000000    0.000000    0.000000    0.000000   \n",
       "50%      0.000000    0.000000    0.000000    0.000000    0.000000   \n",
       "75%      0.000000    0.000000    0.000000    0.000000    0.000000   \n",
       "max      1.000000    1.000000    1.000000    1.000000    1.000000   \n",
       "\n",
       "       reactjs,react.js         npm  \n",
       "count        153.000000  153.000000  \n",
       "mean           0.019608    0.013072  \n",
       "std            0.139104    0.113956  \n",
       "min            0.000000    0.000000  \n",
       "25%            0.000000    0.000000  \n",
       "50%            0.000000    0.000000  \n",
       "75%            0.000000    0.000000  \n",
       "max            1.000000    1.000000  \n",
       "\n",
       "[8 rows x 64 columns]"
      ]
     },
     "execution_count": 2098,
     "metadata": {},
     "output_type": "execute_result"
    }
   ],
   "source": [
    "X.describe()"
   ]
  },
  {
   "cell_type": "code",
   "execution_count": 2099,
   "metadata": {},
   "outputs": [
    {
     "data": {
      "text/plain": [
       "count           107\n",
       "unique            9\n",
       "top       developer\n",
       "freq             44\n",
       "Name: title_category, dtype: object"
      ]
     },
     "execution_count": 2099,
     "metadata": {},
     "output_type": "execute_result"
    }
   ],
   "source": [
    "y_train.describe()"
   ]
  },
  {
   "cell_type": "code",
   "execution_count": 2100,
   "metadata": {},
   "outputs": [
    {
     "data": {
      "text/plain": [
       "count           396\n",
       "unique            9\n",
       "top       developer\n",
       "freq             44\n",
       "Name: title_category, dtype: object"
      ]
     },
     "execution_count": 2100,
     "metadata": {},
     "output_type": "execute_result"
    }
   ],
   "source": [
    "y_train_resampled.describe()"
   ]
  },
  {
   "cell_type": "code",
   "execution_count": 2101,
   "metadata": {},
   "outputs": [
    {
     "name": "stdout",
     "output_type": "stream",
     "text": [
      "0      developer\n",
      "1      developer\n",
      "2      developer\n",
      "3       engineer\n",
      "4      technical\n",
      "         ...    \n",
      "391       tester\n",
      "392       tester\n",
      "393       tester\n",
      "394       tester\n",
      "395       tester\n",
      "Name: title_category, Length: 396, dtype: object\n"
     ]
    }
   ],
   "source": [
    "print(y_train_resampled)"
   ]
  },
  {
   "cell_type": "markdown",
   "metadata": {},
   "source": [
    "Here we are just exploring the resampled splits to see what are the most frequent roles. Developer is used 44 times which means there could be some biased towards choosing developer as a predicted category. This can be edited later on once more data is collected in different areas. "
   ]
  },
  {
   "cell_type": "markdown",
   "metadata": {},
   "source": [
    "**Stage 2 -Training on Different Algorithms and Stage 4 - Hyperparemeter Tuning** "
   ]
  },
  {
   "cell_type": "code",
   "execution_count": 2102,
   "metadata": {},
   "outputs": [
    {
     "name": "stderr",
     "output_type": "stream",
     "text": [
      "c:\\Python311\\Lib\\site-packages\\sklearn\\svm\\_base.py:1250: ConvergenceWarning: Liblinear failed to converge, increase the number of iterations.\n",
      "  warnings.warn(\n"
     ]
    }
   ],
   "source": [
    "#logistic regression model\n",
    "\n",
    "#define the Hyperparameters\n",
    "C = 100\n",
    "penalty = 'l1'  \n",
    "solver = 'liblinear'  \n",
    "\n",
    "#uses resampled training sets for increased accuracy\n",
    "clf = LogisticRegression(C=C, penalty=penalty, solver=solver)\n",
    "clf.fit(X_train_resampled, y_train_resampled)\n",
    "predictions = clf.predict(X_test)\n"
   ]
  },
  {
   "cell_type": "markdown",
   "metadata": {},
   "source": [
    "Eventhough Logistic Regression is not the best algorithm to train this model on as the predictions are not True or False(Yes or No). It is a good start as its simple to set up and it gives us a good view on how the split samples are being used. \n",
    "\n",
    "We have defined the hyperparemeters here so we can start changing the values and seeing how it affects the models accuracy below. \n",
    "- C = regularisation paremeter\n",
    "- penalty = type of regularisation\n",
    "- solver = optimisation algorithm"
   ]
  },
  {
   "cell_type": "markdown",
   "metadata": {},
   "source": [
    "**Stage 3 - Model Accuracy**"
   ]
  },
  {
   "cell_type": "code",
   "execution_count": 2103,
   "metadata": {},
   "outputs": [
    {
     "name": "stdout",
     "output_type": "stream",
     "text": [
      "Accuracy: 0.6086956521739131\n",
      "              precision    recall  f1-score   support\n",
      "\n",
      "     analyst       0.00      0.00      0.00         2\n",
      "    designer       1.00      1.00      1.00         1\n",
      "   developer       0.89      0.67      0.76        12\n",
      "    engineer       0.67      0.55      0.60        11\n",
      "  managerial       1.00      0.67      0.80        12\n",
      "   marketing       0.33      1.00      0.50         1\n",
      "   technical       0.50      0.67      0.57         6\n",
      "  technician       0.00      0.00      0.00         1\n",
      "      tester       0.00      0.00      0.00         0\n",
      "\n",
      "    accuracy                           0.61        46\n",
      "   macro avg       0.49      0.51      0.47        46\n",
      "weighted avg       0.75      0.61      0.66        46\n",
      "\n"
     ]
    },
    {
     "name": "stderr",
     "output_type": "stream",
     "text": [
      "c:\\Python311\\Lib\\site-packages\\sklearn\\metrics\\_classification.py:1471: UndefinedMetricWarning: Recall and F-score are ill-defined and being set to 0.0 in labels with no true samples. Use `zero_division` parameter to control this behavior.\n",
      "  _warn_prf(average, modifier, msg_start, len(result))\n",
      "c:\\Python311\\Lib\\site-packages\\sklearn\\metrics\\_classification.py:1471: UndefinedMetricWarning: Recall and F-score are ill-defined and being set to 0.0 in labels with no true samples. Use `zero_division` parameter to control this behavior.\n",
      "  _warn_prf(average, modifier, msg_start, len(result))\n",
      "c:\\Python311\\Lib\\site-packages\\sklearn\\metrics\\_classification.py:1471: UndefinedMetricWarning: Recall and F-score are ill-defined and being set to 0.0 in labels with no true samples. Use `zero_division` parameter to control this behavior.\n",
      "  _warn_prf(average, modifier, msg_start, len(result))\n"
     ]
    }
   ],
   "source": [
    "#model accuracy\n",
    "accuracy = accuracy_score(y_test, predictions)\n",
    "print(f\"Accuracy: {accuracy}\")\n",
    "print(classification_report(y_test, predictions))"
   ]
  },
  {
   "cell_type": "markdown",
   "metadata": {},
   "source": [
    "This algorithm seems to be performing okay. Guessing the correct category just over half of the time. Looking at the accuracy score we can see classes like analyst, technician, and tester are reading back 0 as they have a low support in data. Classes like developer and managerial are working well as they have a higher amount of supporting data for the model to train on. \n",
    "\n",
    "The warning states that there are classes with no samples of some classes. We can see that in the Recall and F-score in certain classes as they have been set to 0.0. "
   ]
  },
  {
   "cell_type": "markdown",
   "metadata": {},
   "source": [
    "**Stage 3 - Confusion Matrix**"
   ]
  },
  {
   "cell_type": "code",
   "execution_count": 2104,
   "metadata": {},
   "outputs": [
    {
     "name": "stdout",
     "output_type": "stream",
     "text": [
      "[[0 0 0 1 0 0 0 0 1]\n",
      " [0 1 0 0 0 0 0 0 0]\n",
      " [0 0 8 2 0 0 0 2 0]\n",
      " [0 0 1 6 0 0 2 1 1]\n",
      " [1 0 0 0 8 2 1 0 0]\n",
      " [0 0 0 0 0 1 0 0 0]\n",
      " [1 0 0 0 0 0 4 1 0]\n",
      " [0 0 0 0 0 0 1 0 0]\n",
      " [0 0 0 0 0 0 0 0 0]]\n"
     ]
    }
   ],
   "source": [
    "#predict x_test\n",
    "predictions = clf.predict(X_test)\n",
    "\n",
    "#build confusion matrix\n",
    "conf_matrix = confusion_matrix(y_test, predictions)\n",
    "print(conf_matrix)"
   ]
  },
  {
   "cell_type": "markdown",
   "metadata": {},
   "source": [
    "In a confusion matrix, the numbers in the diagonal line from the top-left to bottom-right represent positive predictions from the model. The rest of them are negative predictions, a perfect model would only have numbers displayed on the line. This model has 14 misclassifications across the various classes. "
   ]
  },
  {
   "cell_type": "markdown",
   "metadata": {},
   "source": [
    "**Stage 2 -Training on Different Algorithms and Stage 4 - Hyperparemeter Tuning** "
   ]
  },
  {
   "cell_type": "code",
   "execution_count": 2105,
   "metadata": {},
   "outputs": [],
   "source": [
    "#random forest classifier\n",
    "\n",
    "# Define the hyperparameters\n",
    "n_estimators = 150\n",
    "max_depth = 25\n",
    "min_samples_split = 8 \n",
    "\n",
    "# Create the classifier with specified hyperparameters\n",
    "clf = RandomForestClassifier(n_estimators=n_estimators,max_depth=max_depth,min_samples_split=min_samples_split,\n",
    ")\n",
    "#trainers\n",
    "clf.fit(X_train, y_train)\n",
    "\n",
    "predictions = clf.predict(X_test)"
   ]
  },
  {
   "cell_type": "markdown",
   "metadata": {},
   "source": [
    "For the second algorithm, Random Forest Classifier is used. A robust algorithm that deals with multi-classification better. \n",
    "\n",
    "We have also defined the hypereparameters here:\n",
    "- n_esimators = number of trees in forest(higher the number the more computational cost, 100-200 seems optimal)\n",
    "- max_depth = how far a tree can go in its decisions(deeper trees can capture complex patterns in data but can lead to overfitting)\n",
    "- min_samples_split = Number of samples required to split a node(too little = overfitting, too many = underfitting)\n",
    "\n",
    "**Evaluation** After testing many different numbers in the paremeters, it seemed 80% could be achieved by keeping the numbers relatively low. The most consistent results came from the parameters set in the code."
   ]
  },
  {
   "cell_type": "markdown",
   "metadata": {},
   "source": [
    "**Stage 3 - Model Accuracy**"
   ]
  },
  {
   "cell_type": "code",
   "execution_count": 2106,
   "metadata": {},
   "outputs": [
    {
     "name": "stdout",
     "output_type": "stream",
     "text": [
      "Accuracy: 0.7608695652173914\n",
      "              precision    recall  f1-score   support\n",
      "\n",
      "     analyst       0.67      1.00      0.80         2\n",
      "    designer       1.00      1.00      1.00         1\n",
      "   developer       0.86      1.00      0.92        12\n",
      "    engineer       1.00      0.73      0.84        11\n",
      "  managerial       0.82      0.75      0.78        12\n",
      "   marketing       0.25      1.00      0.40         1\n",
      "   technical       0.40      0.33      0.36         6\n",
      "  technician       0.00      0.00      0.00         1\n",
      "\n",
      "    accuracy                           0.76        46\n",
      "   macro avg       0.62      0.73      0.64        46\n",
      "weighted avg       0.78      0.76      0.76        46\n",
      "\n"
     ]
    },
    {
     "name": "stderr",
     "output_type": "stream",
     "text": [
      "c:\\Python311\\Lib\\site-packages\\sklearn\\metrics\\_classification.py:1471: UndefinedMetricWarning: Precision and F-score are ill-defined and being set to 0.0 in labels with no predicted samples. Use `zero_division` parameter to control this behavior.\n",
      "  _warn_prf(average, modifier, msg_start, len(result))\n",
      "c:\\Python311\\Lib\\site-packages\\sklearn\\metrics\\_classification.py:1471: UndefinedMetricWarning: Precision and F-score are ill-defined and being set to 0.0 in labels with no predicted samples. Use `zero_division` parameter to control this behavior.\n",
      "  _warn_prf(average, modifier, msg_start, len(result))\n",
      "c:\\Python311\\Lib\\site-packages\\sklearn\\metrics\\_classification.py:1471: UndefinedMetricWarning: Precision and F-score are ill-defined and being set to 0.0 in labels with no predicted samples. Use `zero_division` parameter to control this behavior.\n",
      "  _warn_prf(average, modifier, msg_start, len(result))\n"
     ]
    }
   ],
   "source": [
    "# model accuracy\n",
    "accuracy = accuracy_score(y_test, predictions)\n",
    "print(f\"Accuracy: {accuracy}\")\n",
    "print(classification_report(y_test, predictions))"
   ]
  },
  {
   "cell_type": "markdown",
   "metadata": {},
   "source": [
    "This alogrithm performed significantly better than the LogisticRegression. An overall accuracy of 80%, 82% at peak and 76% lowest was the results I recieved. Also, specific classes like analyst and technical had a higher precision and recall even with low samples of data. This was due to how the algorithm deals with outliers and Null values. "
   ]
  },
  {
   "cell_type": "markdown",
   "metadata": {},
   "source": [
    "**Stage 2 -Training on Different Algorithms and Stage 4 - Hyperparemeter Tuning** "
   ]
  },
  {
   "cell_type": "code",
   "execution_count": 2107,
   "metadata": {},
   "outputs": [],
   "source": [
    "# k nearest kneighbours classifier\n",
    "\n",
    "#create parameters\n",
    "n_neighbors = 6\n",
    "knn = KNeighborsClassifier(n_neighbors=n_neighbors)\n",
    "#trainers\n",
    "knn.fit(X_train_resampled, y_train_resampled)\n",
    "\n",
    "predictions = knn.predict(X_test)"
   ]
  },
  {
   "cell_type": "markdown",
   "metadata": {},
   "source": [
    "The last algorithm I chose was the K Nearest Kneighbours Classifier. The LogisticRegression algorithm and the RandomForestClassifier both make assumptions with the data distribution affecting performance because of this. I chose this model as it is more flexible.\n",
    "\n",
    "n_neighbors= how many neighbouring data points should the algorithm consider when making the prediction.(a higher value can lead to bias, a lower value can potentially overfit)"
   ]
  },
  {
   "cell_type": "markdown",
   "metadata": {},
   "source": [
    "**Stage 3 - Model Accuracy**"
   ]
  },
  {
   "cell_type": "code",
   "execution_count": 2108,
   "metadata": {},
   "outputs": [
    {
     "name": "stdout",
     "output_type": "stream",
     "text": [
      "Accuracy: 0.8695652173913043\n",
      "              precision    recall  f1-score   support\n",
      "\n",
      "     analyst       1.00      1.00      1.00         2\n",
      "    designer       1.00      1.00      1.00         1\n",
      "   developer       0.85      0.92      0.88        12\n",
      "    engineer       0.90      0.82      0.86        11\n",
      "  managerial       1.00      0.83      0.91        12\n",
      "   marketing       0.33      1.00      0.50         1\n",
      "   technical       1.00      0.83      0.91         6\n",
      "  technician       0.50      1.00      0.67         1\n",
      "\n",
      "    accuracy                           0.87        46\n",
      "   macro avg       0.82      0.93      0.84        46\n",
      "weighted avg       0.91      0.87      0.88        46\n",
      "\n"
     ]
    }
   ],
   "source": [
    "#model accuracy\n",
    "accuracy = accuracy_score(y_test, predictions)\n",
    "print(f\"Accuracy: {accuracy}\")\n",
    "\n",
    "print(classification_report(y_test, predictions))"
   ]
  },
  {
   "cell_type": "markdown",
   "metadata": {},
   "source": [
    "At an accuracy of 86% this algorithm seems to work the best. There are no 0.0 values throughout the classes due to the flexibility of the algorithm."
   ]
  },
  {
   "cell_type": "markdown",
   "metadata": {},
   "source": [
    "***Stage 5 - Saving and Loading Model***"
   ]
  },
  {
   "cell_type": "code",
   "execution_count": 2109,
   "metadata": {},
   "outputs": [
    {
     "data": {
      "text/plain": [
       "['model.pkl']"
      ]
     },
     "execution_count": 2109,
     "metadata": {},
     "output_type": "execute_result"
    }
   ],
   "source": [
    "import joblib\n",
    "\n",
    "joblib.dump(clf, 'model.pkl')"
   ]
  },
  {
   "cell_type": "code",
   "execution_count": 2110,
   "metadata": {},
   "outputs": [
    {
     "name": "stdout",
     "output_type": "stream",
     "text": [
      "model.pkl\n"
     ]
    }
   ],
   "source": [
    "model = joblib.load('model.pkl')\n",
    "print('model.pkl')"
   ]
  },
  {
   "cell_type": "markdown",
   "metadata": {},
   "source": [
    "**Final Thoughts**"
   ]
  },
  {
   "cell_type": "markdown",
   "metadata": {},
   "source": [
    "This note book has used a dataset to train, test and package a model ready for deployment at Version 1. We have used label mapping and a binary matrix to format the features and testing them on 3 different algorithms. At a peak accuracy of 86% I would call this project a success. \n",
    "\n",
    "However, there are issues that need to be looked at and refined in Version 2 of this model. \n",
    "- There is not enough data overall with a low number of samples.\n",
    "- The different classes created do not have enough balanced samples in them to create a professional standard model.\n",
    "- The titles are categorised making the predictions simple and not too helpful, as it only provides advice on a job field and not particular roles.\n",
    "- The titles should instead be labelEncoded and cleaned further to increase the useability of the model.\n",
    "- Extra Features, such as Soft Skills and Job Roles could be introduced.\n",
    "- A deeper evaluation needs to be conducted as there are UserWarnings and Errors that could potentially affect the overall useability of the model.\n",
    "\n",
    "Eventhough, this is only a simple use of Machine Learning. I believe that is has shown a good understanding of the different stages of development and provided a clear step-by-step guide on the process. \n",
    "\n",
    "**The Deployement of this model is demonstrated in app.py of this project folder**"
   ]
  },
  {
   "cell_type": "markdown",
   "metadata": {},
   "source": [
    "**References**"
   ]
  },
  {
   "cell_type": "markdown",
   "metadata": {},
   "source": [
    "Arora, L. (2023, May 17). How to deploy machine learning models using flask (with code!). Analytics Vidhya. https://www.analyticsvidhya.com/blog/2020/04/how-to-deploy-machine-learning-model-flask/ \n",
    "\n",
    "Author links open overlay panelKhalid K. Al-jabery, &amp; chapter, A. this. (2019, November 22). Data Analysis and machine learning tools in MATLAB and python. Computational Learning Approaches to Data Analytics in Biomedical Applications. https://www.sciencedirect.com/science/article/abs/pii/B9780128144824000097\n",
    " \n",
    "CSS Script. (2023, August 23). High performance select box javascript library - virtual select. https://www.cssscript.com/select-box-virtual-scroll/ \n",
    "\n",
    "Invention Tricks. (2022, May 9). JQuery multiselect Dropdown with search box | bootstrap 5 supported Multiselect Dropdown. YouTube. https://www.youtube.com/watch?v=PNyyBK6Y3KI \n",
    "\n",
    "Kulkarni, A. (2020). Confusion matrix. Confusion Matrix - an overview | ScienceDirect Topics. https://www.sciencedirect.com/topics/engineering/confusion-matrix#:~:text=A%20confusion%20matrix%20represents%20the,by%20model%20as%20other%20class \n",
    "\n",
    "OpenAI. (n.d.). Chatgpt. ChatGPT. https://openai.com/chatgpt \n",
    "\n",
    "Shafi, A. (2023, February 24). Random Forest classification with Scikit-Learn. DataCamp. https://www.datacamp.com/tutorial/random-forests-classifier-python \n",
    "\n",
    "w3schools. (n.d.). Machine learning - confusion matrix. Python Machine Learning - Confusion Matrix. https://www.w3schools.com/python/python_ml_confusion_matrix.asp "
   ]
  }
 ],
 "metadata": {
  "kernelspec": {
   "display_name": "Python 3",
   "language": "python",
   "name": "python3"
  },
  "language_info": {
   "codemirror_mode": {
    "name": "ipython",
    "version": 3
   },
   "file_extension": ".py",
   "mimetype": "text/x-python",
   "name": "python",
   "nbconvert_exporter": "python",
   "pygments_lexer": "ipython3",
   "version": "3.11.2"
  }
 },
 "nbformat": 4,
 "nbformat_minor": 2
}
